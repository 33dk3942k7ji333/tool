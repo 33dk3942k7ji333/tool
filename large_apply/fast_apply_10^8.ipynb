{
 "cells": [
  {
   "cell_type": "code",
   "execution_count": 1,
   "metadata": {},
   "outputs": [],
   "source": [
    "%load_ext memory_profiler\n",
    "import pandas as pd\n",
    "import random\n",
    "import time"
   ]
  },
  {
   "cell_type": "code",
   "execution_count": 2,
   "metadata": {},
   "outputs": [],
   "source": [
    "def gen_data(num_of_raw: int=10000, num_of_ele: int=10) -> pd.DataFrame:\n",
    "    lst_ele = [chr(i) for i in range(97, 97+num_of_ele)]\n",
    "    row1 = random.choices(lst_ele, k=num_of_raw)\n",
    "    row2 = random.choices(lst_ele, k=num_of_raw)\n",
    "    row3 = random.choices(lst_ele, k=num_of_raw)\n",
    "    row4 = random.choices(lst_ele, k=num_of_raw)\n",
    "    row5 = random.choices(lst_ele, k=num_of_raw)\n",
    "    row6 = random.choices(lst_ele, k=num_of_raw)\n",
    "    row7 = random.choices(lst_ele, k=num_of_raw)\n",
    "    row8 = random.choices(lst_ele, k=num_of_raw)\n",
    "    row9 = random.choices(lst_ele, k=num_of_raw)\n",
    "    data = {\n",
    "        \"Tool\": row1,\n",
    "        \"Prev1Tool\": row2,\n",
    "        \"Prev2Tool\": row3,\n",
    "        \"other1\": row4,\n",
    "        \"other2\": row5,\n",
    "        \"other3\": row6,\n",
    "        \"other4\": row7,\n",
    "        \"other5\": row8,\n",
    "        \"other6\": row9,\n",
    "        }\n",
    "    df_res = pd.DataFrame(data=data)\n",
    "    return df_res\n",
    "\n",
    "def foo1(df):\n",
    "    if (df[\"Tool\"] == df[\"Prev1Tool\"]) and (df[\"Prev1Tool\"] == df[\"Prev2Tool\"]):\n",
    "        df[\"Trans1\"] = \"A\"\n",
    "        df[\"Trans2\"] = \"A\"\n",
    "        df[\"Trans3\"] = \"A\"\n",
    "    elif (df[\"Tool\"] == df[\"Prev1Tool\"]) and (df[\"Prev1Tool\"] != df[\"Prev2Tool\"]):\n",
    "        df[\"Trans1\"] = \"A\"\n",
    "        df[\"Trans2\"] = \"A\"\n",
    "        df[\"Trans3\"] = \"B\"\n",
    "    elif (df[\"Tool\"] != df[\"Prev1Tool\"]) and (df[\"Prev1Tool\"] == df[\"Prev2Tool\"]):\n",
    "        df[\"Trans1\"] = \"B\"\n",
    "        df[\"Trans2\"] = \"A\"\n",
    "        df[\"Trans3\"] = \"A\"\n",
    "    elif (df[\"Tool\"] != df[\"Prev1Tool\"]) and (df[\"Tool\"] == df[\"Prev2Tool\"]):\n",
    "        df[\"Trans1\"] = \"A\"\n",
    "        df[\"Trans2\"] = \"B\"\n",
    "        df[\"Trans3\"] = \"A\"\n",
    "    else:\n",
    "        df[\"Trans1\"] = \"A\"\n",
    "        df[\"Trans2\"] = \"B\"\n",
    "        df[\"Trans3\"] = \"C\"\n",
    "    return df\n",
    "\n",
    "def foo2(df):\n",
    "    if (df[\"Tool\"] == df[\"Prev1Tool\"]) and (df[\"Prev1Tool\"] == df[\"Prev2Tool\"]):\n",
    "        return \"A\",\"A\",\"A\"\n",
    "    elif (df[\"Tool\"] == df[\"Prev1Tool\"]) and (df[\"Prev1Tool\"] != df[\"Prev2Tool\"]):\n",
    "        return \"A\",\"A\",\"B\"\n",
    "    elif (df[\"Tool\"] != df[\"Prev1Tool\"]) and (df[\"Prev1Tool\"] == df[\"Prev2Tool\"]):\n",
    "        return \"B\",\"A\",\"A\"\n",
    "    elif (df[\"Tool\"] != df[\"Prev1Tool\"]) and (df[\"Tool\"] == df[\"Prev2Tool\"]):\n",
    "        return \"A\",\"B\",\"A\"\n",
    "    else:\n",
    "        return \"A\",\"B\",\"C\"\n",
    "\n",
    "def method_1(df_rawdata):\n",
    "    df_data = df_rawdata.copy()\n",
    "    df_data = df_data.apply(foo1, axis=1)\n",
    "    return df_data\n",
    "\n",
    "def method_2(df_rawdata):\n",
    "    df_data = df_rawdata.copy()\n",
    "    df_data[\"tran1\"], df_data[\"trans2\"], df_data[\"trans3\"] = zip(*df_data.apply(foo2, axis=1))\n",
    "    return df_data"
   ]
  },
  {
   "cell_type": "code",
   "execution_count": 3,
   "metadata": {},
   "outputs": [
    {
     "name": "stdout",
     "output_type": "stream",
     "text": [
      "  Tool Prev1Tool Prev2Tool other1 other2 other3 other4 other5 other6\n",
      "0             Â         £      b      ¦      Ä            a      µ\n",
      "1    {         i         |      t      {      À                  }\n",
      "2    °         b         ¶      £      q      ©                  »\n",
      "3    ¾         ©         ©      ­      ¸      ±      §            \n",
      "4    ¤         °         l            »                  ³      \n"
     ]
    }
   ],
   "source": [
    "LST_TOOL = [\"Tool\", \"Prev1Tool\", \"Prev2Tool\"]\n",
    "NUM_OF_ROW = 100000\n",
    "NUM_OF_ELE = 100\n",
    "\n",
    "df_rawdata = gen_data(num_of_raw=NUM_OF_ROW, num_of_ele=NUM_OF_ELE)\n",
    "print(df_rawdata.head())"
   ]
  },
  {
   "cell_type": "code",
   "execution_count": 4,
   "metadata": {},
   "outputs": [
    {
     "name": "stdout",
     "output_type": "stream",
     "text": [
      "===== Method 1 =====\n",
      "44 s ± 61.1 ms per loop (mean ± std. dev. of 5 runs, 10 loops each)\n",
      "===== Method 2 =====\n",
      "1.12 s ± 3.83 ms per loop (mean ± std. dev. of 5 runs, 10 loops each)\n"
     ]
    }
   ],
   "source": [
    "print(\"===== Method 1 =====\")\n",
    "%timeit -r 5 -n 10 df_res = method_1(df_rawdata)\n",
    "\n",
    "print(\"===== Method 2 =====\")\n",
    "%timeit -r 5 -n 10 df_res = method_2(df_rawdata)"
   ]
  },
  {
   "cell_type": "code",
   "execution_count": 5,
   "metadata": {},
   "outputs": [
    {
     "name": "stdout",
     "output_type": "stream",
     "text": [
      "===== Method 1 =====\n",
      "peak memory: 423.73 MiB, increment: 218.64 MiB\n"
     ]
    }
   ],
   "source": [
    "print(\"===== Method 1 =====\")\n",
    "%memit method_1(df_rawdata)"
   ]
  },
  {
   "cell_type": "code",
   "execution_count": 6,
   "metadata": {},
   "outputs": [
    {
     "name": "stdout",
     "output_type": "stream",
     "text": [
      "===== Method 2 =====\n",
      "peak memory: 223.45 MiB, increment: 12.98 MiB\n"
     ]
    }
   ],
   "source": [
    "print(\"===== Method 2 =====\")\n",
    "%memit method_2(df_rawdata)"
   ]
  },
  {
   "cell_type": "code",
   "execution_count": 7,
   "metadata": {},
   "outputs": [],
   "source": [
    "lst_m1_time = []\n",
    "lst_m2_time = []\n",
    "lst_test_num = [10**n for n in range(0,8)]\n",
    "for num_of_row in lst_test_num:\n",
    "    _df_rawdata = gen_data(num_of_raw=num_of_row, num_of_ele=NUM_OF_ELE)\n",
    "    t1 = time.perf_counter()\n",
    "    _ = method_1(_df_rawdata)\n",
    "    t2 = time.perf_counter()\n",
    "    _ = method_2(_df_rawdata)\n",
    "    t3 = time.perf_counter()\n",
    "    \n",
    "    lst_m1_time.append(t2-t1)\n",
    "    lst_m2_time.append(t3-t2)"
   ]
  },
  {
   "cell_type": "code",
   "execution_count": 8,
   "metadata": {},
   "outputs": [],
   "source": [
    "df_res = pd.DataFrame({\"Method_Old\": lst_m1_time, \"Method_New\": lst_m2_time})\n",
    "df_res.to_csv(\"./df_compare.csv\")"
   ]
  },
  {
   "cell_type": "code",
   "execution_count": null,
   "metadata": {},
   "outputs": [],
   "source": []
  }
 ],
 "metadata": {
  "kernelspec": {
   "display_name": "base",
   "language": "python",
   "name": "python3"
  },
  "language_info": {
   "codemirror_mode": {
    "name": "ipython",
    "version": 3
   },
   "file_extension": ".py",
   "mimetype": "text/x-python",
   "name": "python",
   "nbconvert_exporter": "python",
   "pygments_lexer": "ipython3",
   "version": "3.11.5"
  }
 },
 "nbformat": 4,
 "nbformat_minor": 2
}
