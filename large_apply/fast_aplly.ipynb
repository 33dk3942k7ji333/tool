{
 "cells": [
  {
   "cell_type": "code",
   "execution_count": 1,
   "metadata": {},
   "outputs": [],
   "source": [
    "import pandas as pd\n",
    "import random\n",
    "import time"
   ]
  },
  {
   "cell_type": "code",
   "execution_count": 2,
   "metadata": {},
   "outputs": [],
   "source": [
    "def gen_data(num_of_raw: int=10000, num_of_ele: int=10) -> pd.DataFrame:\n",
    "    lst_ele = [chr(i) for i in range(97, 97+num_of_ele)]\n",
    "    row1 = random.choices(lst_ele, k=num_of_raw)\n",
    "    row2 = random.choices(lst_ele, k=num_of_raw)\n",
    "    row3 = random.choices(lst_ele, k=num_of_raw)\n",
    "    row4 = random.choices(lst_ele, k=num_of_raw)\n",
    "    row5 = random.choices(lst_ele, k=num_of_raw)\n",
    "    row6 = random.choices(lst_ele, k=num_of_raw)\n",
    "    row7 = random.choices(lst_ele, k=num_of_raw)\n",
    "    row8 = random.choices(lst_ele, k=num_of_raw)\n",
    "    row9 = random.choices(lst_ele, k=num_of_raw)\n",
    "    data = {\n",
    "        \"Tool\": row1,\n",
    "        \"Prev1Tool\": row2,\n",
    "        \"Prev2Tool\": row3,\n",
    "        \"other1\": row4,\n",
    "        \"other2\": row5,\n",
    "        \"other3\": row6,\n",
    "        \"other4\": row7,\n",
    "        \"other5\": row8,\n",
    "        \"other6\": row9,\n",
    "        }\n",
    "    df_res = pd.DataFrame(data=data)\n",
    "    return df_res\n",
    "\n",
    "def foo1(df):\n",
    "    if (df[\"Tool\"] == df[\"Prev1Tool\"]) and (df[\"Prev1Tool\"] == df[\"Prev2Tool\"]):\n",
    "        df[\"Trans1\"] = \"A\"\n",
    "        df[\"Trans2\"] = \"A\"\n",
    "        df[\"Trans3\"] = \"A\"\n",
    "    elif (df[\"Tool\"] == df[\"Prev1Tool\"]) and (df[\"Prev1Tool\"] != df[\"Prev2Tool\"]):\n",
    "        df[\"Trans1\"] = \"A\"\n",
    "        df[\"Trans2\"] = \"A\"\n",
    "        df[\"Trans3\"] = \"B\"\n",
    "    elif (df[\"Tool\"] != df[\"Prev1Tool\"]) and (df[\"Prev1Tool\"] == df[\"Prev2Tool\"]):\n",
    "        df[\"Trans1\"] = \"B\"\n",
    "        df[\"Trans2\"] = \"A\"\n",
    "        df[\"Trans3\"] = \"A\"\n",
    "    elif (df[\"Tool\"] != df[\"Prev1Tool\"]) and (df[\"Tool\"] == df[\"Prev2Tool\"]):\n",
    "        df[\"Trans1\"] = \"A\"\n",
    "        df[\"Trans2\"] = \"B\"\n",
    "        df[\"Trans3\"] = \"A\"\n",
    "    else:\n",
    "        df[\"Trans1\"] = \"A\"\n",
    "        df[\"Trans2\"] = \"B\"\n",
    "        df[\"Trans3\"] = \"C\"\n",
    "    return df\n",
    "\n",
    "def foo2(df):\n",
    "    if (df[\"Tool\"] == df[\"Prev1Tool\"]) and (df[\"Prev1Tool\"] == df[\"Prev2Tool\"]):\n",
    "        return \"A\",\"A\",\"A\"\n",
    "    elif (df[\"Tool\"] == df[\"Prev1Tool\"]) and (df[\"Prev1Tool\"] != df[\"Prev2Tool\"]):\n",
    "        return \"A\",\"A\",\"B\"\n",
    "    elif (df[\"Tool\"] != df[\"Prev1Tool\"]) and (df[\"Prev1Tool\"] == df[\"Prev2Tool\"]):\n",
    "        return \"B\",\"A\",\"A\"\n",
    "    elif (df[\"Tool\"] != df[\"Prev1Tool\"]) and (df[\"Tool\"] == df[\"Prev2Tool\"]):\n",
    "        return \"A\",\"B\",\"A\"\n",
    "    else:\n",
    "        return \"A\",\"B\",\"C\"\n",
    "\n",
    "def method_1(df_rawdata):\n",
    "    df_data = df_rawdata.copy()\n",
    "    df_data = df_data.apply(foo1, axis=1)\n",
    "    return df_data\n",
    "\n",
    "def method_2(df_rawdata):\n",
    "    df_data = df_rawdata.copy()\n",
    "    df_data[\"tran1\"], df_data[\"trans2\"], df_data[\"trans3\"] = zip(*df_data.apply(foo2, axis=1))\n",
    "    return df_data"
   ]
  },
  {
   "cell_type": "code",
   "execution_count": 3,
   "metadata": {},
   "outputs": [
    {
     "name": "stdout",
     "output_type": "stream",
     "text": [
      "  Tool Prev1Tool Prev2Tool other1 other2 other3 other4 other5 other6\n",
      "0    b         d         g      e      a      j      b      b      i\n",
      "1    c         f         b      e      i      a      b      d      d\n",
      "2    g         a         c      j      g      j      f      a      d\n",
      "3    b         b         c      d      g      i      a      b      h\n",
      "4    c         c         f      h      g      g      d      a      g\n"
     ]
    }
   ],
   "source": [
    "LST_TOOL = [\"Tool\", \"Prev1Tool\", \"Prev2Tool\"]\n",
    "NUM_OF_ROW = 10000\n",
    "NUM_OF_ELE = 10\n",
    "\n",
    "df_rawdata = gen_data(num_of_raw=NUM_OF_ROW, num_of_ele=NUM_OF_ELE)\n",
    "print(df_rawdata.head())"
   ]
  },
  {
   "cell_type": "code",
   "execution_count": 4,
   "metadata": {},
   "outputs": [
    {
     "name": "stdout",
     "output_type": "stream",
     "text": [
      "===== Method 1 =====\n",
      "8.19 s ± 887 ms per loop (mean ± std. dev. of 5 runs, 5 loops each)\n",
      "===== Method 2 =====\n",
      "218 ms ± 4.24 ms per loop (mean ± std. dev. of 5 runs, 5 loops each)\n"
     ]
    }
   ],
   "source": [
    "print(\"===== Method 1 =====\")\n",
    "%timeit -r 5 -n 5 df_res = method_1(df_rawdata)\n",
    "\n",
    "print(\"===== Method 2 =====\")\n",
    "%timeit -r 5 -n 5 df_res = method_2(df_rawdata)"
   ]
  },
  {
   "cell_type": "code",
   "execution_count": 5,
   "metadata": {},
   "outputs": [],
   "source": [
    "lst_m1_time = []\n",
    "lst_m2_time = []\n",
    "lst_test_num = [10**n for n in range(0,7)]\n",
    "for num_of_row in lst_test_num:\n",
    "    _df_rawdata = gen_data(num_of_raw=num_of_row, num_of_ele=NUM_OF_ELE)\n",
    "    t1 = time.perf_counter()\n",
    "    _ = method_1(_df_rawdata)\n",
    "    t2 = time.perf_counter()\n",
    "    _ = method_2(_df_rawdata)\n",
    "    t3 = time.perf_counter()\n",
    "    \n",
    "    lst_m1_time.append(t2-t1)\n",
    "    lst_m2_time.append(t3-t2)"
   ]
  },
  {
   "cell_type": "code",
   "execution_count": 6,
   "metadata": {},
   "outputs": [],
   "source": [
    "df_res = pd.DataFrame({\"Method_Old\": lst_m1_time, \"Method_New\": lst_m2_time})\n",
    "df_res.to_csv(\"./df_res.csv\")"
   ]
  },
  {
   "cell_type": "code",
   "execution_count": null,
   "metadata": {},
   "outputs": [],
   "source": []
  }
 ],
 "metadata": {
  "kernelspec": {
   "display_name": "base",
   "language": "python",
   "name": "python3"
  },
  "language_info": {
   "codemirror_mode": {
    "name": "ipython",
    "version": 3
   },
   "file_extension": ".py",
   "mimetype": "text/x-python",
   "name": "python",
   "nbconvert_exporter": "python",
   "pygments_lexer": "ipython3",
   "version": "3.11.5"
  }
 },
 "nbformat": 4,
 "nbformat_minor": 2
}
