{
 "cells": [
  {
   "cell_type": "code",
   "execution_count": 1,
   "metadata": {},
   "outputs": [],
   "source": [
    "import math\n",
    "import pandas as pd\n",
    "import numpy as np\n",
    "from sklearn.preprocessing import OneHotEncoder, LabelEncoder\n",
    "from sklearn.metrics.pairwise import manhattan_distances, pairwise_distances, pairwise_distances_chunked"
   ]
  },
  {
   "cell_type": "code",
   "execution_count": 2,
   "metadata": {},
   "outputs": [
    {
     "data": {
      "text/plain": [
       "Index(['Part', 'Reticle', 'Prev1Reticle', 'Tool', 'Prev1Tool', 'Prev2Tool',\n",
       "       'ChuckID'],\n",
       "      dtype='object')"
      ]
     },
     "execution_count": 2,
     "metadata": {},
     "output_type": "execute_result"
    }
   ],
   "source": [
    "df_data = pd.read_csv(\"./df_data.csv\")\n",
    "feat_list = df_data.columns\n",
    "BATCH_SIZE = 200000\n",
    "feat_list"
   ]
  },
  {
   "cell_type": "code",
   "execution_count": 3,
   "metadata": {},
   "outputs": [
    {
     "data": {
      "text/plain": [
       "(493848, 72)"
      ]
     },
     "execution_count": 3,
     "metadata": {},
     "output_type": "execute_result"
    }
   ],
   "source": [
    "le_list = []\n",
    "df_data_le = pd.DataFrame()\n",
    "for _feat in feat_list:\n",
    "    le = LabelEncoder()\n",
    "    df_data_le[_feat] = le.fit_transform(df_data[_feat])\n",
    "    le_list.append(le)\n",
    "    \n",
    "ohe = OneHotEncoder()\n",
    "res = ohe.fit_transform(df_data_le).toarray()\n",
    "res.shape"
   ]
  },
  {
   "cell_type": "code",
   "execution_count": 4,
   "metadata": {},
   "outputs": [
    {
     "data": {
      "text/plain": [
       "array([[1, 0, 0, ..., 0, 1, 0],\n",
       "       [1, 0, 0, ..., 0, 0, 1],\n",
       "       [1, 0, 0, ..., 0, 1, 0],\n",
       "       ...,\n",
       "       [0, 0, 0, ..., 0, 0, 1],\n",
       "       [0, 0, 0, ..., 0, 1, 0],\n",
       "       [0, 0, 0, ..., 0, 0, 1]], dtype=uint8)"
      ]
     },
     "execution_count": 4,
     "metadata": {},
     "output_type": "execute_result"
    }
   ],
   "source": [
    "res = res.astype(\"uint8\")\n",
    "res"
   ]
  },
  {
   "cell_type": "code",
   "execution_count": 5,
   "metadata": {},
   "outputs": [],
   "source": [
    "known_comb = res[:2500,:]\n",
    "unknown_comb = res[2500:,:]\n",
    "\n",
    "\n",
    "known_data = df_data_le.iloc[:2500, :]\n",
    "unknown_data = df_data_le.iloc[2500:, :]"
   ]
  },
  {
   "cell_type": "code",
   "execution_count": 6,
   "metadata": {},
   "outputs": [],
   "source": [
    "def get_max_batch(num, batch_size):\n",
    "    return math.ceil(num/batch_size)\n",
    "\n",
    "def m1(res1, res2):\n",
    "    out1 = manhattan_distances(res1, res2) / 2\n",
    "    return out1.astype(\"uint8\")"
   ]
  },
  {
   "cell_type": "code",
   "execution_count": 7,
   "metadata": {},
   "outputs": [
    {
     "name": "stdout",
     "output_type": "stream",
     "text": [
      "0~200000\n",
      "[[3 4 3 ... 2 1 2]\n",
      " [4 3 4 ... 1 2 1]\n",
      " [3 4 3 ... 2 1 2]\n",
      " ...\n",
      " [6 5 6 ... 4 5 4]\n",
      " [5 6 5 ... 5 4 5]\n",
      " [6 5 6 ... 4 5 4]]\n",
      "200000~400000\n",
      "[[5 6 5 ... 5 4 5]\n",
      " [6 5 6 ... 4 5 4]\n",
      " [4 5 5 ... 6 5 6]\n",
      " ...\n",
      " [5 4 6 ... 5 6 5]\n",
      " [5 6 4 ... 6 5 6]\n",
      " [6 5 5 ... 5 6 5]]\n",
      "400000~493848\n",
      "[[5 6 5 ... 6 5 6]\n",
      " [6 5 6 ... 5 6 5]\n",
      " [5 6 5 ... 6 5 6]\n",
      " ...\n",
      " [7 6 7 ... 6 7 6]\n",
      " [6 7 6 ... 7 6 7]\n",
      " [7 6 7 ... 6 7 6]]\n"
     ]
    }
   ],
   "source": [
    "for i in range(get_max_batch(unknown_comb.shape[0], BATCH_SIZE)):\n",
    "    st = i * BATCH_SIZE\n",
    "    et = (i+1) * BATCH_SIZE if (i+1) * BATCH_SIZE < res.shape[0] else res.shape[0]\n",
    "    batch_unknown_comb = unknown_comb[st:et,:]\n",
    "    print(f'{st}~{et}')\n",
    "    out1 = m1(batch_unknown_comb, known_comb)\n",
    "    print(out1)"
   ]
  },
  {
   "cell_type": "code",
   "execution_count": 8,
   "metadata": {},
   "outputs": [],
   "source": [
    "def m2c(res1, res2):\n",
    "    out = np.empty((res1.shape[0], res2.shape[0]), dtype=\"uint8\")\n",
    "    col = 0\n",
    "    for _m in pairwise_distances_chunked(res1, res2, metric=\"hamming\"):\n",
    "        out[col:col+len(_m)] = (_m * res1.shape[1])\n",
    "        col += len(_m)\n",
    "    return out.astype(\"uint8\")"
   ]
  },
  {
   "cell_type": "code",
   "execution_count": 9,
   "metadata": {},
   "outputs": [],
   "source": [
    "\n",
    "known_data = df_data_le.iloc[:2500, :]\n",
    "unknown_data = df_data_le.iloc[2500:, :]"
   ]
  },
  {
   "cell_type": "code",
   "execution_count": 10,
   "metadata": {},
   "outputs": [
    {
     "name": "stdout",
     "output_type": "stream",
     "text": [
      "0~200000\n",
      "[[3 4 3 ... 2 1 2]\n",
      " [4 3 4 ... 1 2 1]\n",
      " [3 4 3 ... 2 1 2]\n",
      " ...\n",
      " [6 5 6 ... 4 5 4]\n",
      " [5 6 5 ... 5 4 5]\n",
      " [6 5 6 ... 4 5 4]]\n",
      "200000~400000\n",
      "[[5 6 5 ... 5 4 5]\n",
      " [6 5 6 ... 4 5 4]\n",
      " [4 5 5 ... 6 5 6]\n",
      " ...\n",
      " [5 4 6 ... 5 6 5]\n",
      " [5 6 4 ... 6 5 6]\n",
      " [6 5 5 ... 5 6 5]]\n",
      "400000~491348\n",
      "[[5 6 5 ... 6 5 6]\n",
      " [6 5 6 ... 5 6 5]\n",
      " [5 6 5 ... 6 5 6]\n",
      " ...\n",
      " [7 6 7 ... 6 7 6]\n",
      " [6 7 6 ... 7 6 7]\n",
      " [7 6 7 ... 6 7 6]]\n"
     ]
    }
   ],
   "source": [
    "for i in range(get_max_batch(unknown_data.shape[0], BATCH_SIZE)):\n",
    "    st = i * BATCH_SIZE\n",
    "    et = (i+1) * BATCH_SIZE if (i+1) * BATCH_SIZE < unknown_data.shape[0] else unknown_data.shape[0]\n",
    "    batch_unknown_data = unknown_data.iloc[st:et,:]\n",
    "    print(f'{st}~{et}')\n",
    "    out2c = m2c(batch_unknown_data, known_data)\n",
    "    print(out2c)"
   ]
  },
  {
   "cell_type": "code",
   "execution_count": null,
   "metadata": {},
   "outputs": [],
   "source": []
  }
 ],
 "metadata": {
  "kernelspec": {
   "display_name": "base",
   "language": "python",
   "name": "python3"
  },
  "language_info": {
   "codemirror_mode": {
    "name": "ipython",
    "version": 3
   },
   "file_extension": ".py",
   "mimetype": "text/x-python",
   "name": "python",
   "nbconvert_exporter": "python",
   "pygments_lexer": "ipython3",
   "version": "3.11.5"
  }
 },
 "nbformat": 4,
 "nbformat_minor": 2
}
