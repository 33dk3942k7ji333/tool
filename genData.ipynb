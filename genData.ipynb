{
 "cells": [
  {
   "cell_type": "code",
   "execution_count": 293,
   "metadata": {},
   "outputs": [],
   "source": [
    "import random\n",
    "import pandas as pd\n",
    "import numpy as np\n",
    "from dataclasses import dataclass, field\n",
    "from itertools import product"
   ]
  },
  {
   "cell_type": "code",
   "execution_count": 294,
   "metadata": {},
   "outputs": [],
   "source": [
    "RNG = np.random.default_rng()\n",
    "\n",
    "DIM = 3\n",
    "LAYER = [\"L0\", \"L1\", \"L2\"]\n",
    "SCALE = [1,1,150,150,150,150,15,15,15,15]\n",
    "\n",
    "def gen_part_name():\n",
    "    _prefix = \"TM\"\n",
    "    _suffix = f'{random.randint(0,99):02d}'\n",
    "    return _prefix + chr(random.randint(65,90)) + chr(random.randint(65,90)) + _suffix\n",
    "\n",
    "def gen_ret_name(part_name, layer_name, num):\n",
    "    return [f'{part_name}{layer_name}-{i}' for i in range(1, num+1)]\n",
    "\n",
    "def gen_bias(dim, scale, base=None):\n",
    "    _scale = np.array(scale[:DIM]).reshape([DIM, 1])\n",
    "    if base is None:\n",
    "        bias = 10 * (1/_scale) * RNG.random(size=[dim, 1])\n",
    "    else:\n",
    "        bias = base + 10 * (1/_scale) * RNG.random(size=[dim, 1]) / 10        \n",
    "    return bias"
   ]
  },
  {
   "cell_type": "code",
   "execution_count": 295,
   "metadata": {},
   "outputs": [],
   "source": [
    "@dataclass\n",
    "class Part:\n",
    "    id: int\n",
    "    n_ret: list\n",
    "\n",
    "    name: str=field(init=False)\n",
    "    ret_name: dict=field(init=False)\n",
    "    bias: list=field(init=False)\n",
    "    ret_bias: dict=field(init=False)\n",
    "    chuck_type: list=field(init=False)\n",
    "\n",
    "    def __post_init__(self):\n",
    "        self.name = gen_part_name()\n",
    "        self.bias = gen_bias(DIM, SCALE)\n",
    "        self.ret_name = dict()\n",
    "        self.ret_bias = dict()\n",
    "\n",
    "        for layer, num  in zip(LAYER, self.n_ret):\n",
    "            ret_names = gen_ret_name(self.name, layer, num)\n",
    "            self.ret_name[layer] = ret_names\n",
    "\n",
    "            for ret_name in ret_names:\n",
    "                self.ret_bias[ret_name] = gen_bias(DIM, SCALE, base=self.bias)\n",
    "\n",
    "        self.chuck_type = random.choice([[\"BASE\"], [\"S1\",\"S2\"]])\n",
    "\n",
    "\n",
    "@dataclass\n",
    "class Tool:\n",
    "    id: int\n",
    "    \n",
    "    name: str=field(init=False)\n",
    "    bias0: list=field(init=False)\n",
    "    bias1: list=field(init=False)\n",
    "    bias2: list=field(init=False)\n",
    "    \n",
    "    chuck0: list=field(init=False)\n",
    "    chuck1: list=field(init=False)\n",
    "    chuck2: list=field(init=False)\n",
    "    \n",
    "    def __post_init__(self):\n",
    "        self.name = f'Tool-{self.id}'\n",
    "        self.bias0 = gen_bias(DIM, SCALE)\n",
    "        self.bias1 = gen_bias(DIM, SCALE)\n",
    "        self.bias2 = gen_bias(DIM, SCALE)\n",
    "        \n",
    "        self.chuck0 = gen_bias(DIM, SCALE)\n",
    "        self.chuck1 = gen_bias(DIM, SCALE)\n",
    "        self.chuck2 = gen_bias(DIM, SCALE)"
   ]
  },
  {
   "cell_type": "code",
   "execution_count": null,
   "metadata": {},
   "outputs": [],
   "source": [
    "pp = Part(1, [2,1,2])\n",
    "pp"
   ]
  },
  {
   "cell_type": "code",
   "execution_count": null,
   "metadata": {},
   "outputs": [],
   "source": [
    "tt = Tool(1)\n",
    "tt"
   ]
  },
  {
   "cell_type": "code",
   "execution_count": 298,
   "metadata": {},
   "outputs": [],
   "source": [
    "def gen_data(n_part, n_ret, n_tool):\n",
    "    _part_map = [Part(i, n_ret) for i in range(n_part)]\n",
    "    _tool_map = [Tool(i) for i in range(n_tool)]\n",
    "    \n",
    "    part_map = {part.name: part for part in _part_map}\n",
    "    tool_map = {tool.name: tool for tool in _tool_map}\n",
    "    return part_map, tool_map\n",
    "\n",
    "n_part = 5\n",
    "n_ret = [2,1,1]\n",
    "n_tool = 10\n",
    "\n",
    "part_map, tool_map = gen_data(n_part, n_ret, n_tool)"
   ]
  },
  {
   "cell_type": "code",
   "execution_count": null,
   "metadata": {},
   "outputs": [],
   "source": [
    "LST_FEAT = [\"Part\", \"Ret0\", \"Ret1\", \"Tool0\", \"Tool1\", \"Tool2\", \"Chuck\"]\n",
    "\n",
    "lst_comb = []\n",
    "for part_name, part in part_map.items():\n",
    "    lst_tool = list(tool_map.keys())\n",
    "    lst_feats = [[part_name], part.ret_name[\"L0\"], part.ret_name[\"L1\"], lst_tool[:5], lst_tool[5:], lst_tool[5:], part.chuck_type]\n",
    "    lst_comb.extend(list(product(*lst_feats)))\n",
    "\n",
    "df_data = pd.DataFrame(lst_comb, columns=LST_FEAT)\n",
    "df_data\n"
   ]
  },
  {
   "cell_type": "code",
   "execution_count": null,
   "metadata": {},
   "outputs": [],
   "source": [
    "def cal_rn(row):\n",
    "    _Part = row[\"Part\"]\n",
    "    _Ret0 = row[\"Ret0\"]\n",
    "    _Ret1 = row[\"Ret1\"]\n",
    "    _Tool0 = row[\"Tool0\"]\n",
    "    _Tool1 = row[\"Tool1\"]\n",
    "    _Tool2 = row[\"Tool2\"]\n",
    "    _Chuck = row[\"Chuck\"]\n",
    "    \n",
    "    rn0 = part_map[_Part].ret_bias[_Ret0][0] + tool_map[_Tool0].bias0[0]\n",
    "    rn1 = part_map[_Part].ret_bias[_Ret1][0] + tool_map[_Tool1].bias1[0]\n",
    "    rn2 = tool_map[_Tool2].bias2[0] + 0\n",
    "    \n",
    "    if _Chuck != \"BASE\":\n",
    "        rn0 += tool_map[_Tool0].chuck0[0]\n",
    "        rn1 += tool_map[_Tool1].chuck1[0]\n",
    "        rn2 += tool_map[_Tool2].chuck2[0]\n",
    "        \n",
    "    return float(rn0+rn1+rn2)\n",
    "    \n",
    "    \n",
    "df_data[\"Tx\"] = df_data.apply(cal_rn, axis=1)\n",
    "df_data"
   ]
  },
  {
   "cell_type": "code",
   "execution_count": null,
   "metadata": {},
   "outputs": [],
   "source": [
    "tool_map['Tool-4']"
   ]
  },
  {
   "cell_type": "code",
   "execution_count": null,
   "metadata": {},
   "outputs": [],
   "source": []
  },
  {
   "cell_type": "code",
   "execution_count": null,
   "metadata": {},
   "outputs": [],
   "source": []
  },
  {
   "cell_type": "code",
   "execution_count": null,
   "metadata": {},
   "outputs": [],
   "source": []
  }
 ],
 "metadata": {
  "kernelspec": {
   "display_name": "base",
   "language": "python",
   "name": "python3"
  },
  "language_info": {
   "codemirror_mode": {
    "name": "ipython",
    "version": 3
   },
   "file_extension": ".py",
   "mimetype": "text/x-python",
   "name": "python",
   "nbconvert_exporter": "python",
   "pygments_lexer": "ipython3",
   "version": "3.11.5"
  }
 },
 "nbformat": 4,
 "nbformat_minor": 2
}
