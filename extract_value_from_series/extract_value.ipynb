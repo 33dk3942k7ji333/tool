{
 "cells": [
  {
   "cell_type": "code",
   "execution_count": 1,
   "metadata": {},
   "outputs": [],
   "source": [
    "import pandas as pd"
   ]
  },
  {
   "cell_type": "code",
   "execution_count": 2,
   "metadata": {},
   "outputs": [
    {
     "data": {
      "text/html": [
       "<div>\n",
       "<style scoped>\n",
       "    .dataframe tbody tr th:only-of-type {\n",
       "        vertical-align: middle;\n",
       "    }\n",
       "\n",
       "    .dataframe tbody tr th {\n",
       "        vertical-align: top;\n",
       "    }\n",
       "\n",
       "    .dataframe thead th {\n",
       "        text-align: right;\n",
       "    }\n",
       "</style>\n",
       "<table border=\"1\" class=\"dataframe\">\n",
       "  <thead>\n",
       "    <tr style=\"text-align: right;\">\n",
       "      <th></th>\n",
       "      <th>stage</th>\n",
       "      <th>model</th>\n",
       "      <th>res</th>\n",
       "    </tr>\n",
       "  </thead>\n",
       "  <tbody>\n",
       "    <tr>\n",
       "      <th>0</th>\n",
       "      <td>AAA</td>\n",
       "      <td>A|A|3111555|S</td>\n",
       "      <td>A</td>\n",
       "    </tr>\n",
       "    <tr>\n",
       "      <th>1</th>\n",
       "      <td>BBB</td>\n",
       "      <td>B|B|1222786|A</td>\n",
       "      <td>A</td>\n",
       "    </tr>\n",
       "    <tr>\n",
       "      <th>2</th>\n",
       "      <td>AAA</td>\n",
       "      <td>A|A|2111997|B</td>\n",
       "      <td>B</td>\n",
       "    </tr>\n",
       "    <tr>\n",
       "      <th>3</th>\n",
       "      <td>BBB</td>\n",
       "      <td>A|B|1222789|A</td>\n",
       "      <td>C</td>\n",
       "    </tr>\n",
       "  </tbody>\n",
       "</table>\n",
       "</div>"
      ],
      "text/plain": [
       "  stage          model res\n",
       "0   AAA  A|A|3111555|S   A\n",
       "1   BBB  B|B|1222786|A   A\n",
       "2   AAA  A|A|2111997|B   B\n",
       "3   BBB  A|B|1222789|A   C"
      ]
     },
     "execution_count": 2,
     "metadata": {},
     "output_type": "execute_result"
    }
   ],
   "source": [
    "data = {\n",
    "    \"stage\": [\"AAA\", \"BBB\", \"AAA\", \"BBB\"],\n",
    "    \"model\": [\"A|A|3111555|S\",\"B|B|1222786|A\", \"A|A|2111997|B\", \"A|B|1222789|A\",],\n",
    "    \"res\": [\"A\", \"A\",\"B\",\"C\"]\n",
    "}\n",
    "\n",
    "df_pred = pd.DataFrame(data)\n",
    "df_pred"
   ]
  },
  {
   "cell_type": "code",
   "execution_count": 3,
   "metadata": {},
   "outputs": [],
   "source": [
    "def foo(df):\n",
    "    tmp_df = df[[\"stage\", \"model\"]]\n",
    "    tmp_df.loc[:,[\"layer\"]] = tmp_df[\"model\"].str.split(\"|\").str[2].str.slice(1,4)\n",
    "    res_df = tmp_df[[\"stage\", \"layer\"]].drop_duplicates()\n",
    "    return res_df[\"stage\"].to_list(), res_df[\"layer\"].to_list()\n",
    "\n",
    "sl, ll = foo(df_pred)"
   ]
  },
  {
   "cell_type": "code",
   "execution_count": 4,
   "metadata": {},
   "outputs": [
    {
     "name": "stdout",
     "output_type": "stream",
     "text": [
      "  stage          model res\n",
      "0   AAA  A|A|3111555|S   A\n",
      "1   BBB  B|B|1222786|A   A\n",
      "2   AAA  A|A|2111997|B   B\n",
      "3   BBB  A|B|1222789|A   C\n",
      "['AAA', 'BBB']\n",
      "['111', '222']\n"
     ]
    }
   ],
   "source": [
    "print(df_pred)\n",
    "print(sl)\n",
    "print(ll)"
   ]
  }
 ],
 "metadata": {
  "kernelspec": {
   "display_name": "base",
   "language": "python",
   "name": "python3"
  },
  "language_info": {
   "codemirror_mode": {
    "name": "ipython",
    "version": 3
   },
   "file_extension": ".py",
   "mimetype": "text/x-python",
   "name": "python",
   "nbconvert_exporter": "python",
   "pygments_lexer": "ipython3",
   "version": "3.11.5"
  }
 },
 "nbformat": 4,
 "nbformat_minor": 2
}
