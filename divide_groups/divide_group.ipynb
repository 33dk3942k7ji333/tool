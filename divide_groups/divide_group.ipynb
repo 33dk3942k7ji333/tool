{
 "cells": [
  {
   "cell_type": "code",
   "execution_count": 1,
   "metadata": {},
   "outputs": [],
   "source": [
    "import itertools\n",
    "from collections import Counter, defaultdict\n",
    "import pandas as pd"
   ]
  },
  {
   "cell_type": "code",
   "execution_count": 2,
   "metadata": {},
   "outputs": [],
   "source": [
    "part_num = 10\n",
    "tool_num = 10\n",
    "pre1_num = 10\n",
    "pre2_num = 10\n",
    "\n",
    "lst_part = [f'P{i}' for i in range(1, part_num)]\n",
    "lst_tool = [f'Tool_{i}' for i in range(1, tool_num)]\n",
    "lst_pre1 = [f'Pre1_{i}' for i in range(1, pre1_num)]\n",
    "lst_pre2 = [f'Pre2_{i}' for i in range(1, pre2_num)]\n",
    "comb = [lst_part, lst_tool, lst_pre1, lst_pre2]\n",
    "\n",
    "lst_feat = [\"Part\", \"Tool\", \"Prev1Tool\", \"Prev2Tool\"]\n",
    "df_raw = pd.DataFrame([i for i in itertools.product(*comb)], columns=lst_feat)\n",
    "df_raw = df_raw.sample(frac=0.7)\n",
    "df_raw = df_raw.sort_values(by=[\"Tool\", \"Prev1Tool\", \"Prev2Tool\"])"
   ]
  },
  {
   "cell_type": "code",
   "execution_count": 3,
   "metadata": {},
   "outputs": [],
   "source": [
    "df_data = df_raw.copy()\n",
    "divide_feat = [\"Tool\", \"Prev1Tool\", \"Prev2Tool\"]\n",
    "df_a = df_data.copy()\n",
    "df_b = df_data.copy()\n",
    "feat_group_a = defaultdict(list)"
   ]
  },
  {
   "cell_type": "code",
   "execution_count": 4,
   "metadata": {},
   "outputs": [],
   "source": [
    "def update_df_in_group(df: pd.DataFrame, feat_group: dict[str, list]):\n",
    "    for feat, lst_ele  in feat_group.items():\n",
    "        cond_feat = df[feat].isin(lst_ele)\n",
    "        df = df[cond_feat]\n",
    "    return df\n",
    "\n",
    "def get_df_not_in_group(df: pd.DataFrame, feat_group: dict[str, list]):\n",
    "    new_feat_group = defaultdict(list)\n",
    "    for feat, lst_ele  in feat_group.items():\n",
    "        cond_feat = df[feat].isin(lst_ele)\n",
    "        df = df[~cond_feat]\n",
    "        new_feat_group[feat] = sorted(df[feat].unique())\n",
    "    return df, new_feat_group"
   ]
  },
  {
   "cell_type": "code",
   "execution_count": 5,
   "metadata": {},
   "outputs": [],
   "source": [
    "for _feat in divide_feat:\n",
    "    cnter_a = Counter(df_a[_feat])\n",
    "    feat_group_a[_feat] = [k for k,_ in cnter_a.most_common()][0::2]\n",
    "    \n",
    "    df_a = update_df_in_group(df_a, feat_group_a)\n",
    "df_b, feat_group_b = get_df_not_in_group(df_b, feat_group_a)"
   ]
  },
  {
   "cell_type": "code",
   "execution_count": null,
   "metadata": {},
   "outputs": [],
   "source": [
    "print(f'Group A: {feat_group_a}')\n",
    "print(f'Group B: {feat_group_b}')"
   ]
  },
  {
   "cell_type": "code",
   "execution_count": null,
   "metadata": {},
   "outputs": [],
   "source": [
    "df_a"
   ]
  },
  {
   "cell_type": "code",
   "execution_count": null,
   "metadata": {},
   "outputs": [],
   "source": [
    "df_b"
   ]
  }
 ],
 "metadata": {
  "kernelspec": {
   "display_name": "Python 3",
   "language": "python",
   "name": "python3"
  },
  "language_info": {
   "codemirror_mode": {
    "name": "ipython",
    "version": 3
   },
   "file_extension": ".py",
   "mimetype": "text/x-python",
   "name": "python",
   "nbconvert_exporter": "python",
   "pygments_lexer": "ipython3",
   "version": "3.11.5"
  }
 },
 "nbformat": 4,
 "nbformat_minor": 2
}
