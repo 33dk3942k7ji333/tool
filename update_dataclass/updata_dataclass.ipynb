{
 "cells": [
  {
   "cell_type": "code",
   "execution_count": 3,
   "metadata": {},
   "outputs": [
    {
     "name": "stdout",
     "output_type": "stream",
     "text": [
      "PredResult(rn_list=[0, 1, 1, 4, 4, 9, 9, 16, 16, 25], fn_list=[-2, -1, -1, 0, 0, 1, 1, 2, 2, 3])\n"
     ]
    }
   ],
   "source": [
    "from dataclasses import dataclass, field\n",
    "\n",
    "@dataclass\n",
    "class PredResult:\n",
    "    rn_list: list[float] = field(default_factory=list)\n",
    "    fn_list: list[float] = field(default_factory=list)\n",
    "    \n",
    "def get_res(i):\n",
    "    return [_i**2 for _i in range(i,i+2)], [_i for _i in range(i-2,i)]\n",
    "\n",
    "def updata_result(result: PredResult, i,j):\n",
    "    result.rn_list.extend(i)\n",
    "    result.fn_list.extend(j)\n",
    "\n",
    "result = PredResult()\n",
    "for i in range(5):\n",
    "    _rn, _fn = get_res(i)\n",
    "    updata_result(result, _rn, _fn)\n",
    "print(result)"
   ]
  },
  {
   "cell_type": "code",
   "execution_count": null,
   "metadata": {},
   "outputs": [],
   "source": [
    "# https://medium.com/alan/5-things-you-should-know-about-dataclass-8c143b75596"
   ]
  }
 ],
 "metadata": {
  "kernelspec": {
   "display_name": "base",
   "language": "python",
   "name": "python3"
  },
  "language_info": {
   "codemirror_mode": {
    "name": "ipython",
    "version": 3
   },
   "file_extension": ".py",
   "mimetype": "text/x-python",
   "name": "python",
   "nbconvert_exporter": "python",
   "pygments_lexer": "ipython3",
   "version": "3.11.5"
  }
 },
 "nbformat": 4,
 "nbformat_minor": 2
}
