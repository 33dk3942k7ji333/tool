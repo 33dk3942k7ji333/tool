{
 "cells": [
  {
   "cell_type": "code",
   "execution_count": 1,
   "metadata": {},
   "outputs": [],
   "source": [
    "import itertools\n",
    "import pandas as pd"
   ]
  },
  {
   "cell_type": "markdown",
   "metadata": {},
   "source": [
    "# Gen Comb\n",
    "PR2  : (mixed, base, no_base)  \n",
    "C : (mixed, #base, chuck)\n",
    "\n",
    "PR2 :  \n",
    "P1, P2 : By Chuck  \n",
    "P3, P4 : By #BASE  "
   ]
  },
  {
   "cell_type": "code",
   "execution_count": 2,
   "metadata": {},
   "outputs": [
    {
     "name": "stdout",
     "output_type": "stream",
     "text": [
      "All Raw Shape : (144, 5)\n",
      "144\n",
      "Filterd Raw Shape : (72, 5)\n",
      "72\n"
     ]
    }
   ],
   "source": [
    "part_lst = [\"P1\", \"P2\", \"P3\", \"P4\"]\n",
    "tool_lst = [\"TOOL_A\", \"TOOL_B\"]\n",
    "pre1_lst = [\"PR1_A\", \"PR1_B\"]\n",
    "pre2_lst = [\"BASE\", \"PR2_A\", \"PR2_B\"]\n",
    "chuck_lst = [\"#C1\", \"#C2\", \"#BASE\"]\n",
    "comb_lst = [part_lst, tool_lst, pre1_lst, pre2_lst, chuck_lst]\n",
    "\n",
    "feat_lst = [\"Part\", \"Tool\", \"Prev1Tool\", \"Prev2Tool\", \"ChuckID\"]\n",
    "df_raw = pd.DataFrame([i for i in itertools.product(*comb_lst)], columns=feat_lst)\n",
    "print(f'All Raw Shape : {df_raw.shape}')\n",
    "print(4*2*2*3*3)\n",
    "\n",
    "# Filter Part\n",
    "cond_Part_no_base = df_raw[\"Part\"].isin([\"P1\",\"P2\"])\n",
    "cond_Part_base = df_raw[\"Part\"].isin([\"P3\",\"P4\"])\n",
    "\n",
    "cond_C_base = df_raw[\"ChuckID\"] == \"#BASE\"\n",
    "cond_C_no_base = df_raw[\"ChuckID\"] != \"#BASE\"\n",
    "\n",
    "\n",
    "# Concat DataFrame\n",
    "df_no_base = df_raw[cond_Part_no_base & cond_C_no_base]\n",
    "df_base = df_raw[cond_Part_base & cond_C_base]\n",
    "mixed_type = [df_no_base, df_base]\n",
    "chuck_type = [df_no_base]\n",
    "base_type = [df_base]\n",
    "df_type_lst = mixed_type\n",
    "df_raw = pd.concat(df_type_lst)\n",
    "df_raw = df_raw.reset_index(drop=True)\n",
    "print(f'Filterd Raw Shape : {df_raw.shape}')\n",
    "print(2*2*2*3*2 + 2*2*2*3*1)"
   ]
  },
  {
   "cell_type": "markdown",
   "metadata": {},
   "source": [
    "# Save Test Data"
   ]
  },
  {
   "cell_type": "code",
   "execution_count": 3,
   "metadata": {},
   "outputs": [
    {
     "name": "stdout",
     "output_type": "stream",
     "text": [
      "Prev2Tool mixed ChuckID mixed : (72, 5)\n",
      "Prev2Tool mixed ChuckID no #BASE : (48, 5)\n",
      "Prev2Tool mixed ChuckID all #BASE : (24, 5)\n",
      "Prev2Tool no BASE ChuckID mixed : (48, 5)\n",
      "Prev2Tool no BASE ChuckID no #BASE : (32, 5)\n",
      "Prev2Tool no BASE ChuckID all #BASE : (16, 5)\n",
      "Prev2Tool BASE ChuckID mixed : (24, 5)\n",
      "Prev2Tool BASE ChuckID no #BASE : (16, 5)\n",
      "Prev2Tool BASE ChuckID all #BASE : (8, 5)\n"
     ]
    }
   ],
   "source": [
    "cond_PR2_no_base = df_raw[\"Prev2Tool\"] != \"BASE\"\n",
    "cond_PR2_base = df_raw[\"Prev2Tool\"] == \"BASE\"\n",
    "cond_C_no_base = df_raw[\"ChuckID\"] != \"#BASE\"\n",
    "cond_C_base = df_raw[\"ChuckID\"] == \"#BASE\"\n",
    "\n",
    "# Prev2Tool mixed ChuckID mixed\n",
    "df_data = df_raw.copy()\n",
    "df_data.to_csv(\"./df_mixed_mixed.csv\", index=False)\n",
    "print(f'Prev2Tool mixed ChuckID mixed : {df_data.shape}')\n",
    "\n",
    "# Prev2Tool mixed ChuckID no #BASE\n",
    "df_data = df_raw.copy()\n",
    "df_data = df_data[cond_C_no_base]\n",
    "df_data.to_csv(\"./df_mixed_noBase.csv\", index=False)\n",
    "print(f'Prev2Tool mixed ChuckID no #BASE : {df_data.shape}')\n",
    "\n",
    "# Prev2Tool mixed ChuckID all #BASE\n",
    "df_data = df_raw.copy()\n",
    "df_data = df_data[cond_C_base]\n",
    "df_data.to_csv(\"./df_mixed_base.csv\", index=False)\n",
    "print(f'Prev2Tool mixed ChuckID all #BASE : {df_data.shape}')\n",
    "\n",
    "#####\n",
    "\n",
    "# Prev2Tool no BASE ChuckID mixed\n",
    "df_data = df_raw.copy()\n",
    "df_data = df_data[cond_PR2_no_base]\n",
    "df_data.to_csv(\"./df_noBase_mixed.csv\", index=False)\n",
    "print(f'Prev2Tool no BASE ChuckID mixed : {df_data.shape}')\n",
    "\n",
    "# Prev2Tool no BASE ChuckID no #BASE\n",
    "df_data = df_raw.copy()\n",
    "df_data = df_data[cond_PR2_no_base & cond_C_no_base]\n",
    "df_data.to_csv(\"./df_noBase_noBase.csv\", index=False)\n",
    "print(f'Prev2Tool no BASE ChuckID no #BASE : {df_data.shape}')\n",
    "\n",
    "# Prev2Tool no BASE ChuckID all #BASE\n",
    "df_data = df_raw.copy()\n",
    "df_data = df_data[cond_PR2_no_base & cond_C_base]\n",
    "df_data.to_csv(\"./df_noBase_base.csv\", index=False)\n",
    "print(f'Prev2Tool no BASE ChuckID all #BASE : {df_data.shape}')\n",
    "\n",
    "######\n",
    "\n",
    "# Prev2Tool BASE ChuckID mixed\n",
    "df_data = df_raw.copy()\n",
    "df_data = df_data[cond_PR2_base]\n",
    "df_data.to_csv(\"./df_base_mixed.csv\", index=False)\n",
    "print(f'Prev2Tool BASE ChuckID mixed : {df_data.shape}')\n",
    "\n",
    "# Prev2Tool BASE ChuckID no #BASE\n",
    "df_data = df_raw.copy()\n",
    "df_data = df_data[cond_PR2_base & cond_C_no_base]\n",
    "df_data.to_csv(\"./df_base_noBase.csv\", index=False)\n",
    "print(f'Prev2Tool BASE ChuckID no #BASE : {df_data.shape}')\n",
    "\n",
    "# Prev2Tool BASE ChuckID all #BASE\n",
    "df_data = df_raw.copy()\n",
    "df_data = df_data[cond_PR2_base & cond_C_base]\n",
    "df_data.to_csv(\"./df_base_base.csv\", index=False)\n",
    "print(f'Prev2Tool BASE ChuckID all #BASE : {df_data.shape}')"
   ]
  }
 ],
 "metadata": {
  "kernelspec": {
   "display_name": "base",
   "language": "python",
   "name": "python3"
  },
  "language_info": {
   "codemirror_mode": {
    "name": "ipython",
    "version": 3
   },
   "file_extension": ".py",
   "mimetype": "text/x-python",
   "name": "python",
   "nbconvert_exporter": "python",
   "pygments_lexer": "ipython3",
   "version": "3.11.5"
  }
 },
 "nbformat": 4,
 "nbformat_minor": 2
}
