{
 "cells": [
  {
   "cell_type": "code",
   "execution_count": 1,
   "metadata": {},
   "outputs": [],
   "source": [
    "import json\n",
    "\n",
    "FILENAME = \"hist.json\""
   ]
  },
  {
   "cell_type": "code",
   "execution_count": 2,
   "metadata": {},
   "outputs": [
    {
     "data": {
      "text/plain": [
       "[{'role': 'user', 'name': 'PPGPT', 'hist': 'hello'},\n",
       " {'role': 'assistant', 'name': 'host', 'hist': 'shut up'},\n",
       " {'role': 'tool', 'name': 'tool_1', 'hist': 'one!'},\n",
       " {'role': 'tool', 'name': 'tool_2', 'hist': 'two!'},\n",
       " {'role': 'tool', 'name': 'tool_3', 'hist': 'three!'},\n",
       " {'role': 'tool', 'name': 'tool_4', 'hist': 'yeah!'},\n",
       " {'role': 'user', 'name': 'PPGPT', 'hist': 'yoyoyo'},\n",
       " {'role': 'assistant', 'name': 'host', 'hist': 'RWK'},\n",
       " {'role': 'tool', 'name': 'tool_1', 'hist': 'yee!'},\n",
       " {'role': 'tool', 'name': 'tool_2', 'hist': 'yeah!'}]"
      ]
     },
     "execution_count": 2,
     "metadata": {},
     "output_type": "execute_result"
    }
   ],
   "source": [
    "with open(FILENAME, \"r\") as f:\n",
    "    resp = json.load(f)\n",
    "\n",
    "data = resp[\"history\"]\n",
    "data"
   ]
  },
  {
   "cell_type": "code",
   "execution_count": 3,
   "metadata": {},
   "outputs": [],
   "source": [
    "class ChatRound:\n",
    "    def __init__(self, user: str):\n",
    "        self.lst_output = list()\n",
    "        self.open_tag = \"<tool_info>\"\n",
    "        self.close_tag = \"</tool_info>\"\n",
    "        self.sep = \"\\n\"\n",
    "\n",
    "        self.user = f\"User: {user}\"\n",
    "        self.lst_tool = list()\n",
    "        self.lst_tool_output = list()\n",
    "\n",
    "    def update_tool(self, tool: str, output: str):\n",
    "        self.lst_tool.append(tool)\n",
    "        self.lst_tool_output.append(output)\n",
    "\n",
    "    def format_result(self):\n",
    "        self.lst_output.append(self.open_tag)\n",
    "        self.lst_output.append(self.user)\n",
    "        for tool, output in zip(self.lst_tool, self.lst_tool_output):\n",
    "            self.lst_output.extend([f\"Tool: {tool}\", f\"{tool} Result: {output}\"])\n",
    "        self.lst_output.append(self.close_tag)\n",
    "        return self.sep.join(self.lst_output) + self.sep"
   ]
  },
  {
   "cell_type": "code",
   "execution_count": 4,
   "metadata": {},
   "outputs": [
    {
     "name": "stdout",
     "output_type": "stream",
     "text": [
      "Result:\n",
      "<tool_info>\n",
      "User: PPGPT\n",
      "Tool: tool_1\n",
      "tool_1 Result: one!\n",
      "Tool: tool_2\n",
      "tool_2 Result: two!\n",
      "Tool: tool_3\n",
      "tool_3 Result: three!\n",
      "Tool: tool_4\n",
      "tool_4 Result: yeah!\n",
      "</tool_info>\n",
      "<tool_info>\n",
      "User: PPGPT\n",
      "Tool: tool_1\n",
      "tool_1 Result: yee!\n",
      "Tool: tool_2\n",
      "tool_2 Result: yeah!\n",
      "</tool_info>\n",
      "\n"
     ]
    }
   ],
   "source": [
    "a: ChatRound = None\n",
    "result = str()\n",
    "\n",
    "for h in data:\n",
    "    if h[\"role\"] == \"user\":\n",
    "        if isinstance(a, ChatRound):\n",
    "            result += a.format_result()\n",
    "            a = None\n",
    "        a = ChatRound(h[\"name\"])\n",
    "    \n",
    "    if h[\"role\"] == \"tool\" and isinstance(a, ChatRound):\n",
    "        a.update_tool(h[\"name\"], h[\"hist\"])\n",
    "\n",
    "if isinstance(a, ChatRound):\n",
    "    result += a.format_result()\n",
    "\n",
    "print(f\"Result:\\n{result}\")"
   ]
  }
 ],
 "metadata": {
  "kernelspec": {
   "display_name": "base",
   "language": "python",
   "name": "python3"
  },
  "language_info": {
   "codemirror_mode": {
    "name": "ipython",
    "version": 3
   },
   "file_extension": ".py",
   "mimetype": "text/x-python",
   "name": "python",
   "nbconvert_exporter": "python",
   "pygments_lexer": "ipython3",
   "version": "3.11.5"
  }
 },
 "nbformat": 4,
 "nbformat_minor": 2
}
