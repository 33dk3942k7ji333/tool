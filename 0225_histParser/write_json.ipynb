{
 "cells": [
  {
   "cell_type": "code",
   "execution_count": 1,
   "metadata": {},
   "outputs": [],
   "source": [
    "import json\n",
    "\n",
    "FILENAME = \"data.json\""
   ]
  },
  {
   "cell_type": "code",
   "execution_count": 2,
   "metadata": {},
   "outputs": [],
   "source": [
    "def add_hist(\n",
    "    dic_data: dict[str, list],\n",
    "    role: str,\n",
    "    name: str,\n",
    "    hist: str,\n",
    "):\n",
    "    _data = {\"role\": role, \"name\": name, \"hist\": hist}\n",
    "    dic_data[\"history\"].append(_data)"
   ]
  },
  {
   "cell_type": "code",
   "execution_count": 3,
   "metadata": {},
   "outputs": [],
   "source": [
    "dic_data = {\n",
    "    \"apName\": \"mGPT\",\n",
    "    \"sessionId\": \"1234567890\",\n",
    "    \"userId\": \"1234567890\",\n",
    "    \"history\": list(),\n",
    "}\n",
    "\n",
    "add_hist(dic_data, \"user\", \"PPGPT\", \"hello\")\n",
    "add_hist(dic_data, \"assistant\", \"host\", \"shut up\")\n",
    "add_hist(dic_data, \"tool\", \"tool_1\", \"one!\")\n",
    "add_hist(dic_data, \"tool\", \"tool_2\", \"two!\")\n",
    "add_hist(dic_data, \"tool\", \"tool_3\", \"three!\")\n",
    "add_hist(dic_data, \"tool\", \"tool_4\", \"yeah!\")\n",
    "add_hist(dic_data, \"user\", \"PPGPT\", \"yoyoyo\")\n",
    "add_hist(dic_data, \"assistant\", \"host\", \"RWK\")\n",
    "add_hist(dic_data, \"tool\", \"tool_1\", \"yee!\")\n",
    "add_hist(dic_data, \"tool\", \"tool_2\", \"yeah!\")"
   ]
  },
  {
   "cell_type": "code",
   "execution_count": 4,
   "metadata": {},
   "outputs": [],
   "source": [
    "with open(FILENAME, 'w') as f:\n",
    "    json.dump(dic_data, f, indent=4)"
   ]
  }
 ],
 "metadata": {
  "kernelspec": {
   "display_name": "base",
   "language": "python",
   "name": "python3"
  },
  "language_info": {
   "codemirror_mode": {
    "name": "ipython",
    "version": 3
   },
   "file_extension": ".py",
   "mimetype": "text/x-python",
   "name": "python",
   "nbconvert_exporter": "python",
   "pygments_lexer": "ipython3",
   "version": "3.11.5"
  }
 },
 "nbformat": 4,
 "nbformat_minor": 2
}
