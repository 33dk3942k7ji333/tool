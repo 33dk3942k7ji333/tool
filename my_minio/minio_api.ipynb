{
 "cells": [
  {
   "cell_type": "code",
   "execution_count": null,
   "metadata": {},
   "outputs": [],
   "source": [
    "%load_ext autoreload\n",
    "%autoreload 2"
   ]
  },
  {
   "cell_type": "code",
   "execution_count": null,
   "metadata": {},
   "outputs": [],
   "source": [
    "import logging\n",
    "from utils.minio_utils.minio_utils import MinIOController\n",
    "logging.basicConfig(filename='log.log', encoding='utf-8', level=logging.INFO)\n",
    "logger = logging.getLogger(__name__)"
   ]
  },
  {
   "cell_type": "code",
   "execution_count": null,
   "metadata": {},
   "outputs": [],
   "source": [
    "END_POINT = \"172.16.0.238:9000\"\n",
    "ACCESS_KEY = \"33cute\"\n",
    "SECRET_KEY = \"harute0Oraiser\""
   ]
  },
  {
   "cell_type": "code",
   "execution_count": null,
   "metadata": {},
   "outputs": [],
   "source": [
    "minio_api = MinIOController(END_POINT, ACCESS_KEY, SECRET_KEY)\n",
    "minio_api.set_bucket(\"home\")\n",
    "minio_api.download(\"IMG/\")\n",
    "id(minio_api)"
   ]
  },
  {
   "cell_type": "code",
   "execution_count": null,
   "metadata": {},
   "outputs": [],
   "source": [
    "\n",
    "minio_api.upload(\"upload_IMG\", prefix=\"TEST/\")"
   ]
  },
  {
   "cell_type": "code",
   "execution_count": null,
   "metadata": {},
   "outputs": [],
   "source": [
    "minio_api = MinIOController(END_POINT, ACCESS_KEY, SECRET_KEY)\n",
    "id(minio_api)"
   ]
  },
  {
   "cell_type": "code",
   "execution_count": null,
   "metadata": {},
   "outputs": [],
   "source": [
    "minio_api.clear()"
   ]
  },
  {
   "cell_type": "code",
   "execution_count": null,
   "metadata": {},
   "outputs": [],
   "source": [
    "minio_api = MinIOController(END_POINT, ACCESS_KEY, SECRET_KEY)\n",
    "id(minio_api)"
   ]
  }
 ],
 "metadata": {
  "kernelspec": {
   "display_name": "base",
   "language": "python",
   "name": "python3"
  },
  "language_info": {
   "codemirror_mode": {
    "name": "ipython",
    "version": 3
   },
   "file_extension": ".py",
   "mimetype": "text/x-python",
   "name": "python",
   "nbconvert_exporter": "python",
   "pygments_lexer": "ipython3",
   "version": "3.11.5"
  }
 },
 "nbformat": 4,
 "nbformat_minor": 2
}
