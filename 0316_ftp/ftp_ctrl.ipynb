{
 "cells": [
  {
   "cell_type": "code",
   "execution_count": 52,
   "metadata": {},
   "outputs": [],
   "source": [
    "import ftplib\n",
    "from pathlib import Path\n",
    "import logging\n",
    "\n",
    "from collections import defaultdict\n",
    "logging.basicConfig(level=logging.DEBUG)"
   ]
  },
  {
   "cell_type": "code",
   "execution_count": 53,
   "metadata": {},
   "outputs": [],
   "source": [
    "FTP_URL = \"localhost\"\n",
    "FTP_USER = \"ituser\"\n",
    "FTP_PWD = \"0000\"\n",
    "\n",
    "dir_remote = \".\"\n",
    "DIR_LOCAL = \"./down2\"\n"
   ]
  },
  {
   "cell_type": "code",
   "execution_count": null,
   "metadata": {},
   "outputs": [
    {
     "name": "stdout",
     "output_type": "stream",
     "text": [
      "Found Directory : test123\n",
      "Found Directory : l1\n",
      "Found Directory : empty\n",
      "Found Directory : l2\n",
      "Found File      : /test123/l1/l2/fuck.txt\n",
      "Found File      : /test123/l1/l2_file1.txt\n",
      "Found File      : /test123/l1/l2_file2.txt\n",
      "Found File      : /test123/l1_file1.txt\n",
      "Found File      : /test123/l1_file2.txt\n",
      "Found File      : //time.txt\n",
      "['/test123/l1/l2/fuck.txt', '/test123/l1/l2_file1.txt', '/test123/l1/l2_file2.txt', '/test123/l1_file1.txt', '/test123/l1_file2.txt', '//time.txt']\n",
      "defaultdict(<class 'list'>, {0: ['test123'], 1: ['l1'], 2: ['empty', 'l2']})\n"
     ]
    }
   ],
   "source": [
    "ftp = ftplib.FTP(FTP_URL, FTP_USER, FTP_PWD, timeout=10)\n",
    "\n",
    "def recursive_list_dir(ftp: ftplib.FTP, dir: str):\n",
    "    lst_file = list()\n",
    "    dic_dir = defaultdict(list)\n",
    "    cnt_depth = 0\n",
    "\n",
    "    def _recursive_list_dir(ftp: ftplib.FTP, root: str):\n",
    "        nonlocal cnt_depth\n",
    "        ftp.cwd(root)\n",
    "        for i in ftp.mlsd(facts=[\"type\"]):\n",
    "            if i[1][\"type\"] == \"dir\":\n",
    "                _dir = i[0]\n",
    "                print(f\"Found Directory : {_dir}\")\n",
    "                dic_dir[cnt_depth].append(_dir)\n",
    "                cnt_depth+=1\n",
    "                _recursive_list_dir(ftp, _dir)\n",
    "                ftp.cwd(\"..\")\n",
    "            elif i[1][\"type\"] == \"file\":\n",
    "                _file = f\"{ftp.pwd()}/{i[0]}\"\n",
    "                print(f\"Found File      : {_file}\")\n",
    "                lst_file.append(_file)\n",
    "            else:\n",
    "                print(f\"Unknown type: {i[0]}\")\n",
    "        cnt_depth-=1\n",
    "    _recursive_list_dir(ftp, dir)\n",
    "    return lst_file, dic_dir\n",
    "\n",
    "\n",
    "lst_file, dic_dir = recursive_list_dir(ftp, dir_remote)\n",
    "print(lst_file)\n",
    "print(dic_dir)\n",
    "\n",
    "# ftp.quit()"
   ]
  },
  {
   "cell_type": "code",
   "execution_count": 43,
   "metadata": {},
   "outputs": [
    {
     "name": "stdout",
     "output_type": "stream",
     "text": [
      "File: /test123/l1/l2/fuck.txt\n",
      " path_file: down2\\test123\\l1\\l2\\fuck.txt\n",
      "Download: /test123/l1/l2/fuck.txt to down2\\test123\\l1\\l2\\fuck.txt\n",
      "File: /test123/l1/l2_file1.txt\n",
      " path_file: down2\\test123\\l1\\l2_file1.txt\n",
      "Download: /test123/l1/l2_file1.txt to down2\\test123\\l1\\l2_file1.txt\n",
      "File: /test123/l1/l2_file2.txt\n",
      " path_file: down2\\test123\\l1\\l2_file2.txt\n",
      "Download: /test123/l1/l2_file2.txt to down2\\test123\\l1\\l2_file2.txt\n",
      "File: /test123/l1_file1.txt\n",
      " path_file: down2\\test123\\l1_file1.txt\n",
      "Download: /test123/l1_file1.txt to down2\\test123\\l1_file1.txt\n",
      "File: /test123/l1_file2.txt\n",
      " path_file: down2\\test123\\l1_file2.txt\n",
      "Download: /test123/l1_file2.txt to down2\\test123\\l1_file2.txt\n"
     ]
    },
    {
     "data": {
      "text/plain": [
       "'221 Service closing control connection.'"
      ]
     },
     "execution_count": 43,
     "metadata": {},
     "output_type": "execute_result"
    }
   ],
   "source": [
    "ftp = ftplib.FTP(FTP_URL, FTP_USER, FTP_PWD, timeout=10)\n",
    "for idx, file in enumerate(lst_file):\n",
    "    if file.startswith(\"/\"):\n",
    "        path_file = Path(DIR_LOCAL) / file.lstrip(\"/\")\n",
    "    else:\n",
    "        path_file = Path(DIR_LOCAL) / file\n",
    "    print(f\"File: {file}\\n path_file: {path_file}\")\n",
    "    \n",
    "    path_file.parent.mkdir(parents=True, exist_ok=True)\n",
    "    \n",
    "    try:\n",
    "        with open(path_file, 'wb') as f:\n",
    "            print(f\"Download: {file} to {path_file}\")\n",
    "            ftp.retrbinary(f\"RETR {file}\", f.write)\n",
    "    except Exception as e:\n",
    "        print(f\"Error : {e}\")\n",
    "ftp.quit()"
   ]
  },
  {
   "cell_type": "code",
   "execution_count": 75,
   "metadata": {},
   "outputs": [
    {
     "name": "stdout",
     "output_type": "stream",
     "text": [
      "Path upload/123 is_dir: True\n",
      "Upload: upload/123/123.txt\n",
      "Upload: upload/75459241_p0.jpg\n",
      "Path upload/nothing is_dir: True\n"
     ]
    }
   ],
   "source": [
    "# ftp = ftplib.FTP(FTP_URL, FTP_USER, FTP_PWD, timeout=10)\n",
    "dir_upload = \"upload\"\n",
    "\n",
    "\n",
    "def walk_upload_dir(dir_upload):\n",
    "    path_upload = Path(dir_upload)\n",
    "    for path in path_upload.glob(\"*\"):\n",
    "        if path.is_dir():\n",
    "            print(f\"Path {path.as_posix()} is_dir: {path.is_dir()}\")\n",
    "            walk_upload_dir(path)\n",
    "        else:\n",
    "            print(f\"Upload: {path.as_posix()}\")\n",
    "    \n",
    "walk_upload_dir(dir_upload)\n",
    "                  "
   ]
  },
  {
   "cell_type": "code",
   "execution_count": 80,
   "metadata": {},
   "outputs": [
    {
     "name": "stdout",
     "output_type": "stream",
     "text": [
      "/test123/l1/l2\n",
      "/\n",
      "/test123\n"
     ]
    },
    {
     "data": {
      "text/plain": [
       "'221 Service closing control connection.'"
      ]
     },
     "execution_count": 80,
     "metadata": {},
     "output_type": "execute_result"
    }
   ],
   "source": [
    "ftp = ftplib.FTP(FTP_URL, FTP_USER, FTP_PWD, timeout=10)\n",
    "ftp.cwd(\"test123/l1/l2\")\n",
    "print(ftp.pwd())\n",
    "ftp.cwd(\"/\")\n",
    "print(ftp.pwd())\n",
    "ftp.cwd(\"test123\")\n",
    "print(ftp.pwd())\n",
    "ftp.quit()"
   ]
  },
  {
   "cell_type": "code",
   "execution_count": null,
   "metadata": {},
   "outputs": [
    {
     "data": {
      "text/plain": [
       "'221 Service closing control connection.'"
      ]
     },
     "execution_count": 77,
     "metadata": {},
     "output_type": "execute_result"
    }
   ],
   "source": []
  }
 ],
 "metadata": {
  "kernelspec": {
   "display_name": "base",
   "language": "python",
   "name": "python3"
  },
  "language_info": {
   "codemirror_mode": {
    "name": "ipython",
    "version": 3
   },
   "file_extension": ".py",
   "mimetype": "text/x-python",
   "name": "python",
   "nbconvert_exporter": "python",
   "pygments_lexer": "ipython3",
   "version": "3.11.5"
  }
 },
 "nbformat": 4,
 "nbformat_minor": 2
}
