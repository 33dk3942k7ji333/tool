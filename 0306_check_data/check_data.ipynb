{
 "cells": [
  {
   "cell_type": "code",
   "execution_count": 1,
   "metadata": {},
   "outputs": [],
   "source": [
    "import pandas as pd"
   ]
  },
  {
   "cell_type": "code",
   "execution_count": 2,
   "metadata": {},
   "outputs": [],
   "source": [
    "filename = \"./data.csv\"\n",
    "\n",
    "target_value = \"value\"\n",
    "lst_feat = [\"f1\", \"f2\"]\n",
    "\n",
    "divide_col = \"stage\"\n",
    "bias_col = \"bias\"\n",
    "spec = 5"
   ]
  },
  {
   "cell_type": "code",
   "execution_count": 3,
   "metadata": {},
   "outputs": [],
   "source": [
    "def concat_cols(row: pd.Series):\n",
    "    return \"_\".join(row.values.astype(str))"
   ]
  },
  {
   "cell_type": "code",
   "execution_count": 4,
   "metadata": {},
   "outputs": [],
   "source": [
    "df_data = pd.read_csv(filename)\n",
    "df_data[\"comb\"] = df_data[lst_feat].apply(concat_cols, axis=1)\n",
    "lst_stage = sorted(df_data[divide_col].unique())"
   ]
  },
  {
   "cell_type": "code",
   "execution_count": 6,
   "metadata": {},
   "outputs": [
    {
     "name": "stdout",
     "output_type": "stream",
     "text": [
      "stage: P1\n",
      "   comb  bias  num     ratio\n",
      "0  A_aa     0    1  0.333333\n",
      "1  A_bb     1    2  0.666667\n",
      "stage: P2\n",
      "   comb  bias  num     ratio\n",
      "0  A_bb    12    3  0.333333\n",
      "1  B_aa     1    2  0.222222\n",
      "2  B_bb     0    1  0.111111\n",
      "3  C_bb     9    3  0.333333\n",
      "oos:\n",
      "   comb  bias  num     ratio\n",
      "0  A_bb    12    3  0.333333\n",
      "3  C_bb     9    3  0.333333\n"
     ]
    }
   ],
   "source": [
    "for stage in lst_stage:\n",
    "    cond_stage = df_data[divide_col] == stage\n",
    "    df_stage = df_data[cond_stage]\n",
    "    grouped_df = df_stage.groupby(\"comb\", as_index=False)[target_value].agg(\n",
    "        {\n",
    "            bias_col: lambda x: abs(max(x) - min(x)),\n",
    "            \"num\": \"count\",\n",
    "        }\n",
    "    )\n",
    "    total_num = grouped_df[\"num\"].sum()\n",
    "    grouped_df[\"ratio\"] = grouped_df[\"num\"] / total_num    \n",
    "    cond_spec = grouped_df[bias_col] > spec\n",
    "    df_oos = grouped_df[cond_spec]\n",
    "    \n",
    "    print(f\"stage: {stage}\")\n",
    "    print(grouped_df)\n",
    "    \n",
    "    if df_oos.shape[0] > 0:\n",
    "        print(\"oos:\")\n",
    "        print(df_oos)"
   ]
  },
  {
   "cell_type": "code",
   "execution_count": null,
   "metadata": {},
   "outputs": [],
   "source": []
  }
 ],
 "metadata": {
  "kernelspec": {
   "display_name": "base",
   "language": "python",
   "name": "python3"
  },
  "language_info": {
   "codemirror_mode": {
    "name": "ipython",
    "version": 3
   },
   "file_extension": ".py",
   "mimetype": "text/x-python",
   "name": "python",
   "nbconvert_exporter": "python",
   "pygments_lexer": "ipython3",
   "version": "3.11.5"
  }
 },
 "nbformat": 4,
 "nbformat_minor": 2
}
