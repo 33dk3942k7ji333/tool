{
 "cells": [
  {
   "cell_type": "code",
   "execution_count": 8,
   "metadata": {},
   "outputs": [],
   "source": [
    "import pandas as pd\n",
    "\n",
    "df_rawdata1 = pd.read_csv(\"./data1.csv\")\n",
    "df_rawdata2 = pd.read_csv(\"./data2.csv\")\n",
    "df_rawdata3 = pd.read_csv(\"./data3.csv\")\n",
    "\n",
    "feat_lst = [\"part\", \"tool\", \"pre1\", \"pre2\", \"chuck\"]"
   ]
  },
  {
   "cell_type": "markdown",
   "metadata": {},
   "source": [
    "# Data1\n",
    "## 'part', 'tool1|chuck', 'pre1|chuck', 'pre2|chuck'"
   ]
  },
  {
   "cell_type": "code",
   "execution_count": 9,
   "metadata": {},
   "outputs": [
    {
     "name": "stdout",
     "output_type": "stream",
     "text": [
      "Index(['part', 'tool1|chuck', 'pre1|chuck', 'pre2|chuck'], dtype='object')\n",
      "\n",
      "Column : part => New Column : ['part']\n",
      "  part tool1|chuck  pre1|chuck  pre2|chuck\n",
      "0   P1     AP01|S1     BP01|S1        BASE\n",
      "1   P2  AP01|#BASE  BP01|#BASE  BASE|#BASE\n",
      "2   P1     AP01|S2     BP01|S2        BASE\n",
      "3   P2     AP01|S1     BP01|S1     CP01|S1\n",
      "4   P2     AP01|S2     BP01|S2     CP01|S2\n",
      "--------------------------------------------------\n",
      "Column : tool1|chuck => New Column : ['tool1', 'chuck']\n",
      "  part tool1|chuck  pre1|chuck  pre2|chuck tool1  chuck\n",
      "0   P1     AP01|S1     BP01|S1        BASE  AP01     S1\n",
      "1   P2  AP01|#BASE  BP01|#BASE  BASE|#BASE  AP01  #BASE\n",
      "2   P1     AP01|S2     BP01|S2        BASE  AP01     S2\n",
      "3   P2     AP01|S1     BP01|S1     CP01|S1  AP01     S1\n",
      "4   P2     AP01|S2     BP01|S2     CP01|S2  AP01     S2\n",
      "--------------------------------------------------\n",
      "Column : pre1|chuck => New Column : ['pre1', 'chuck']\n",
      "  part tool1|chuck  pre1|chuck  pre2|chuck tool1  chuck  pre1\n",
      "0   P1     AP01|S1     BP01|S1        BASE  AP01     S1  BP01\n",
      "1   P2  AP01|#BASE  BP01|#BASE  BASE|#BASE  AP01  #BASE  BP01\n",
      "2   P1     AP01|S2     BP01|S2        BASE  AP01     S2  BP01\n",
      "3   P2     AP01|S1     BP01|S1     CP01|S1  AP01     S1  BP01\n",
      "4   P2     AP01|S2     BP01|S2     CP01|S2  AP01     S2  BP01\n",
      "--------------------------------------------------\n",
      "Column : pre2|chuck => New Column : ['pre2', 'chuck']\n",
      "  part tool1|chuck  pre1|chuck  pre2|chuck tool1  chuck  pre1  pre2\n",
      "0   P1     AP01|S1     BP01|S1        BASE  AP01   None  BP01  BASE\n",
      "1   P2  AP01|#BASE  BP01|#BASE  BASE|#BASE  AP01  #BASE  BP01  BASE\n",
      "2   P1     AP01|S2     BP01|S2        BASE  AP01   None  BP01  BASE\n",
      "3   P2     AP01|S1     BP01|S1     CP01|S1  AP01     S1  BP01  CP01\n",
      "4   P2     AP01|S2     BP01|S2     CP01|S2  AP01     S2  BP01  CP01\n",
      "--------------------------------------------------\n"
     ]
    }
   ],
   "source": [
    "cols_name = df_rawdata1.columns\n",
    "df_m1 = df_rawdata1.copy()\n",
    "print(cols_name)\n",
    "print()\n",
    "\n",
    "for _col in cols_name:\n",
    "    new_col = _col.split(\"|\")\n",
    "    print(f'Column : {_col} => New Column : {new_col}')\n",
    "    df_m1[new_col] = df_m1[_col].str.split(\"|\", expand=True)\n",
    "    print(df_m1)\n",
    "    print(\"-\"*50)"
   ]
  },
  {
   "cell_type": "code",
   "execution_count": 10,
   "metadata": {},
   "outputs": [
    {
     "name": "stdout",
     "output_type": "stream",
     "text": [
      "Index(['part', 'tool1|chuck', 'pre1|chuck', 'pre2|chuck'], dtype='object')\n",
      "\n",
      "Column : part => New Column : ['part']\n",
      "  part\n",
      "0   P1\n",
      "1   P2\n",
      "2   P1\n",
      "3   P2\n",
      "4   P2\n",
      "--------------------------------------------------\n",
      "Column : tool1|chuck => New Column : ['tool1', 'chuck']\n",
      "  part tool1  chuck\n",
      "0   P1  AP01     S1\n",
      "1   P2  AP01  #BASE\n",
      "2   P1  AP01     S2\n",
      "3   P2  AP01     S1\n",
      "4   P2  AP01     S2\n",
      "--------------------------------------------------\n",
      "Column : pre1|chuck => New Column : ['pre1', 'chuck']\n",
      "  part tool1  chuck  pre1\n",
      "0   P1  AP01     S1  BP01\n",
      "1   P2  AP01  #BASE  BP01\n",
      "2   P1  AP01     S2  BP01\n",
      "3   P2  AP01     S1  BP01\n",
      "4   P2  AP01     S2  BP01\n",
      "--------------------------------------------------\n",
      "Column : pre2|chuck => New Column : ['pre2', 'chuck']\n",
      "  part tool1  chuck  pre1  pre2\n",
      "0   P1  AP01     S1  BP01  BASE\n",
      "1   P2  AP01  #BASE  BP01  BASE\n",
      "2   P1  AP01     S2  BP01  BASE\n",
      "3   P2  AP01     S1  BP01  CP01\n",
      "4   P2  AP01     S2  BP01  CP01\n",
      "--------------------------------------------------\n"
     ]
    }
   ],
   "source": [
    "cols_name = df_rawdata1.columns\n",
    "df_m2 = df_rawdata1.copy()\n",
    "print(cols_name)\n",
    "print()\n",
    "\n",
    "res_data = pd.DataFrame()\n",
    "for _col in cols_name:\n",
    "    new_col = _col.split(\"|\")\n",
    "    print(f'Column : {_col} => New Column : {new_col}')\n",
    "    cur_df = pd.DataFrame(df_m2[_col].str.split(\"|\", expand=True), copy=True)\n",
    "    cur_df.columns = new_col\n",
    "\n",
    "    if \"pre2\" in new_col and \"chuck\" in res_data.columns:\n",
    "        cur_df = cur_df.drop(columns=[\"chuck\"])\n",
    "\n",
    "    res_data[cur_df.columns] = cur_df\n",
    "    print(res_data)\n",
    "    print(\"-\"*50)"
   ]
  },
  {
   "cell_type": "markdown",
   "metadata": {},
   "source": [
    "# Data2\n",
    "## 'part', 'tool1|chuck', 'pre1|pre2|chuck'"
   ]
  },
  {
   "cell_type": "code",
   "execution_count": 11,
   "metadata": {},
   "outputs": [
    {
     "name": "stdout",
     "output_type": "stream",
     "text": [
      "Index(['part', 'tool1|chuck', 'pre1|pre2|chuck'], dtype='object')\n",
      "\n",
      "Column : part => New Column : ['part']\n",
      "  part tool1|chuck  pre1|pre2|chuck\n",
      "0   P1     AP01|S1     BP01|BASE|S1\n",
      "1   P2  AP01|#BASE  BP01|BASE|#BASE\n",
      "2   P1     AP01|S2     BP01|BASE|S2\n",
      "3   P2     AP01|S1     BP01|CP01|S1\n",
      "4   P2     AP01|S2     BP01|CP01|S2\n",
      "--------------------------------------------------\n",
      "Column : tool1|chuck => New Column : ['tool1', 'chuck']\n",
      "  part tool1|chuck  pre1|pre2|chuck tool1  chuck\n",
      "0   P1     AP01|S1     BP01|BASE|S1  AP01     S1\n",
      "1   P2  AP01|#BASE  BP01|BASE|#BASE  AP01  #BASE\n",
      "2   P1     AP01|S2     BP01|BASE|S2  AP01     S2\n",
      "3   P2     AP01|S1     BP01|CP01|S1  AP01     S1\n",
      "4   P2     AP01|S2     BP01|CP01|S2  AP01     S2\n",
      "--------------------------------------------------\n",
      "Column : pre1|pre2|chuck => New Column : ['pre1', 'pre2', 'chuck']\n",
      "  part tool1|chuck  pre1|pre2|chuck tool1  chuck  pre1  pre2\n",
      "0   P1     AP01|S1     BP01|BASE|S1  AP01     S1  BP01  BASE\n",
      "1   P2  AP01|#BASE  BP01|BASE|#BASE  AP01  #BASE  BP01  BASE\n",
      "2   P1     AP01|S2     BP01|BASE|S2  AP01     S2  BP01  BASE\n",
      "3   P2     AP01|S1     BP01|CP01|S1  AP01     S1  BP01  CP01\n",
      "4   P2     AP01|S2     BP01|CP01|S2  AP01     S2  BP01  CP01\n",
      "--------------------------------------------------\n"
     ]
    }
   ],
   "source": [
    "cols_name = df_rawdata2.columns\n",
    "df_m1 = df_rawdata2.copy()\n",
    "print(cols_name)\n",
    "print()\n",
    "\n",
    "for _col in cols_name:\n",
    "    new_col = _col.split(\"|\")\n",
    "    print(f'Column : {_col} => New Column : {new_col}')\n",
    "    df_m1[new_col] = df_m1[_col].str.split(\"|\", expand=True)\n",
    "    print(df_m1)\n",
    "    print(\"-\"*50)"
   ]
  },
  {
   "cell_type": "code",
   "execution_count": 12,
   "metadata": {},
   "outputs": [
    {
     "name": "stdout",
     "output_type": "stream",
     "text": [
      "Index(['part', 'tool1|chuck', 'pre1|pre2|chuck'], dtype='object')\n",
      "\n",
      "Column : part => New Column : ['part']\n",
      "  part\n",
      "0   P1\n",
      "1   P2\n",
      "2   P1\n",
      "3   P2\n",
      "4   P2\n",
      "--------------------------------------------------\n",
      "Column : tool1|chuck => New Column : ['tool1', 'chuck']\n",
      "  part tool1  chuck\n",
      "0   P1  AP01     S1\n",
      "1   P2  AP01  #BASE\n",
      "2   P1  AP01     S2\n",
      "3   P2  AP01     S1\n",
      "4   P2  AP01     S2\n",
      "--------------------------------------------------\n",
      "Column : pre1|pre2|chuck => New Column : ['pre1', 'pre2', 'chuck']\n",
      "  part tool1  chuck  pre1  pre2\n",
      "0   P1  AP01     S1  BP01  BASE\n",
      "1   P2  AP01  #BASE  BP01  BASE\n",
      "2   P1  AP01     S2  BP01  BASE\n",
      "3   P2  AP01     S1  BP01  CP01\n",
      "4   P2  AP01     S2  BP01  CP01\n",
      "--------------------------------------------------\n"
     ]
    }
   ],
   "source": [
    "cols_name = df_rawdata2.columns\n",
    "df_m2 = df_rawdata2.copy()\n",
    "print(cols_name)\n",
    "print()\n",
    "\n",
    "res_data = pd.DataFrame()\n",
    "for _col in cols_name:\n",
    "    new_col = _col.split(\"|\")\n",
    "    print(f'Column : {_col} => New Column : {new_col}')\n",
    "    cur_df = pd.DataFrame(df_m2[_col].str.split(\"|\", expand=True), copy=True)\n",
    "    cur_df.columns = new_col\n",
    "\n",
    "    if \"pre2\" in new_col and \"chuck\" in res_data.columns:\n",
    "        cur_df = cur_df.drop(columns=[\"chuck\"])\n",
    "\n",
    "    res_data[cur_df.columns] = cur_df\n",
    "    print(res_data)\n",
    "    print(\"-\"*50)"
   ]
  },
  {
   "cell_type": "markdown",
   "metadata": {},
   "source": [
    "# Data3\n",
    "## 'part', 'tool1pre1|pre2|chuck'"
   ]
  },
  {
   "cell_type": "code",
   "execution_count": 13,
   "metadata": {},
   "outputs": [
    {
     "name": "stdout",
     "output_type": "stream",
     "text": [
      "Index(['part', 'tool|pre1|pre2|chuck'], dtype='object')\n",
      "\n",
      "Column : part => New Column : ['part']\n",
      "  part  tool|pre1|pre2|chuck\n",
      "0   P1     AP01|BP01|BASE|S1\n",
      "1   P2  AP01|BP01|BASE|#BASE\n",
      "2   P1     AP01|BP01|BASE|S2\n",
      "3   P2     AP01|BP01|CP01|S1\n",
      "4   P2     AP01|BP01|CP01|S2\n",
      "--------------------------------------------------\n",
      "Column : tool|pre1|pre2|chuck => New Column : ['tool', 'pre1', 'pre2', 'chuck']\n",
      "  part  tool|pre1|pre2|chuck  tool  pre1  pre2  chuck\n",
      "0   P1     AP01|BP01|BASE|S1  AP01  BP01  BASE     S1\n",
      "1   P2  AP01|BP01|BASE|#BASE  AP01  BP01  BASE  #BASE\n",
      "2   P1     AP01|BP01|BASE|S2  AP01  BP01  BASE     S2\n",
      "3   P2     AP01|BP01|CP01|S1  AP01  BP01  CP01     S1\n",
      "4   P2     AP01|BP01|CP01|S2  AP01  BP01  CP01     S2\n",
      "--------------------------------------------------\n"
     ]
    }
   ],
   "source": [
    "cols_name = df_rawdata3.columns\n",
    "df_m1 = df_rawdata3.copy()\n",
    "print(cols_name)\n",
    "print()\n",
    "\n",
    "for _col in cols_name:\n",
    "    new_col = _col.split(\"|\")\n",
    "    print(f'Column : {_col} => New Column : {new_col}')\n",
    "    df_m1[new_col] = df_m1[_col].str.split(\"|\", expand=True)\n",
    "    print(df_m1)\n",
    "    print(\"-\"*50)"
   ]
  },
  {
   "cell_type": "code",
   "execution_count": 14,
   "metadata": {},
   "outputs": [
    {
     "name": "stdout",
     "output_type": "stream",
     "text": [
      "Index(['part', 'tool|pre1|pre2|chuck'], dtype='object')\n",
      "\n",
      "Column : part => New Column : ['part']\n",
      "  part\n",
      "0   P1\n",
      "1   P2\n",
      "2   P1\n",
      "3   P2\n",
      "4   P2\n",
      "--------------------------------------------------\n",
      "Column : tool|pre1|pre2|chuck => New Column : ['tool', 'pre1', 'pre2', 'chuck']\n",
      "  part  tool  pre1  pre2  chuck\n",
      "0   P1  AP01  BP01  BASE     S1\n",
      "1   P2  AP01  BP01  BASE  #BASE\n",
      "2   P1  AP01  BP01  BASE     S2\n",
      "3   P2  AP01  BP01  CP01     S1\n",
      "4   P2  AP01  BP01  CP01     S2\n",
      "--------------------------------------------------\n"
     ]
    }
   ],
   "source": [
    "cols_name = df_rawdata3.columns\n",
    "df_m2 = df_rawdata3.copy()\n",
    "print(cols_name)\n",
    "print()\n",
    "\n",
    "res_data = pd.DataFrame()\n",
    "for _col in cols_name:\n",
    "    new_col = _col.split(\"|\")\n",
    "    print(f'Column : {_col} => New Column : {new_col}')\n",
    "    cur_df = pd.DataFrame(df_m2[_col].str.split(\"|\", expand=True), copy=True)\n",
    "    cur_df.columns = new_col\n",
    "\n",
    "    if \"pre2\" in new_col and \"chuck\" in res_data.columns:\n",
    "        cur_df = cur_df.drop(columns=[\"chuck\"])\n",
    "\n",
    "    res_data[cur_df.columns] = cur_df\n",
    "    print(res_data)\n",
    "    print(\"-\"*50)"
   ]
  }
 ],
 "metadata": {
  "kernelspec": {
   "display_name": "base",
   "language": "python",
   "name": "python3"
  },
  "language_info": {
   "codemirror_mode": {
    "name": "ipython",
    "version": 3
   },
   "file_extension": ".py",
   "mimetype": "text/x-python",
   "name": "python",
   "nbconvert_exporter": "python",
   "pygments_lexer": "ipython3",
   "version": "3.11.5"
  }
 },
 "nbformat": 4,
 "nbformat_minor": 2
}
