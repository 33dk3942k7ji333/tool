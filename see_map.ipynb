{
 "cells": [
  {
   "cell_type": "code",
   "execution_count": null,
   "metadata": {},
   "outputs": [],
   "source": [
    "import os\n",
    "import shutil\n",
    "import time\n",
    "import pandas as pd\n",
    "from PIL import Image\n",
    "from pathlib import Path\n",
    "from IPython.display import clear_output"
   ]
  },
  {
   "cell_type": "code",
   "execution_count": null,
   "metadata": {},
   "outputs": [],
   "source": [
    "res_pic_folder = \"./result_pic\"\n",
    "ng_pic_folder = \"./result_NG\"\n",
    "rows, cols = 3,3"
   ]
  },
  {
   "cell_type": "code",
   "execution_count": null,
   "metadata": {},
   "outputs": [],
   "source": [
    "# Init\n",
    "os.makedirs(res_pic_folder, exist_ok=True)\n",
    "os.makedirs(ng_pic_folder, exist_ok=True)\n",
    "todo_list = [(stage,f) for stage,_,files in os.walk(\".\") for f in files if (\".png\" in f) and \"result\" not in stage]\n",
    "num_pics = len(todo_list)\n",
    "batch_size = rows*cols\n",
    "num_batch = (num_pics+batch_size-1) // batch_size\n",
    "df_result = pd.DataFrame(columns=[\"Stage\", \"Filename\", \"LotID\", \"NG\", \"Batch\"])\n",
    "\n",
    "print(f'Total {num_pics} png files, See {num_batch} Batch')\n",
    "print(f'Todo List : {todo_list}')"
   ]
  },
  {
   "cell_type": "code",
   "execution_count": null,
   "metadata": {},
   "outputs": [],
   "source": [
    "def lot_chunker(todo_list, batch_size):\n",
    "    start, end = 0, batch_size\n",
    "    while end < len(todo_list):\n",
    "        yield todo_list[start:end]\n",
    "        start, end = end, end+batch_size\n",
    "    yield todo_list[start:len(todo_list)]\n",
    "    \n",
    "for batch_id, _lot_list in enumerate(lot_chunker(todo_list, batch_size)):\n",
    "    clear_output(wait=True)\n",
    "    stage_list, filename_list, lotid_list = [], [], []\n",
    "    ng_list, batch = [False]*len(_lot_list), [batch_id]*len(_lot_list)\n",
    "    dic_batch = {\"Stage\": stage_list, \"Filename\": filename_list, \"LotID\": lotid_list, \"NG\": ng_list, \"Batch\": batch}\n",
    "    \n",
    "    _imgs = []\n",
    "    for _stage, _file in _lot_list:\n",
    "        path = Path(_stage)/_file\n",
    "        _imgs.append(Image.open(path))\n",
    "        \n",
    "        stage_list.append(_stage)\n",
    "        filename_list.append(_file)\n",
    "        _lot = _file.split(\"_\",maxsplit=1)[1].split(\".png\")[0]\n",
    "        lotid_list.append(_lot)\n",
    "    \n",
    "    print(f'Lot: {lotid_list}')\n",
    "    width, height = _imgs[0].size\n",
    "    new_img = Image.new('RGB', ((width+50)*cols-50, (height+50)*rows-50))\n",
    "    pos_x, pos_y = 0, 0\n",
    "    for idx, img in enumerate(_imgs):\n",
    "        pos_x = (idx%cols) * (width+50)\n",
    "        pos_y = (idx//cols) * (height+50)\n",
    "        new_img.paste(img, (pos_x, pos_y))\n",
    "    new_img_path = Path(res_pic_folder)/f'Batch_{batch_id:02d}.png'\n",
    "    new_img.save(new_img_path)\n",
    "    \n",
    "    display(new_img)\n",
    "    time.sleep(0.2*batch_size)\n",
    "    \n",
    "    ng_idx = input()\n",
    "    if ng_idx != \"\":\n",
    "        for _idx in ng_idx.split(\",\"):\n",
    "            idx = int(_idx)-1\n",
    "            ng_list[idx] = True\n",
    "            \n",
    "            _stage, _file = stage_list[idx], filename_list[idx]\n",
    "            src_path = Path(_stage)/_file\n",
    "            dst_path = Path(ng_pic_folder) / _stage / _file\n",
    "            os.makedirs(os.path.dirname(dst_path), exist_ok=True)\n",
    "            shutil.copy(src_path, dst_path)\n",
    "    \n",
    "    df_batch = pd.DataFrame.from_dict(dic_batch)\n",
    "    df_result = pd.concat([df_result, df_batch], axis=0).reset_index(drop=True)\n",
    "    df_result.to_csv(\"./res.csv\", index=False)\n",
    "    \n",
    "clear_output(wait=True)\n",
    "df_result"
   ]
  }
 ],
 "metadata": {
  "kernelspec": {
   "display_name": "base",
   "language": "python",
   "name": "python3"
  },
  "language_info": {
   "codemirror_mode": {
    "name": "ipython",
    "version": 3
   },
   "file_extension": ".py",
   "mimetype": "text/x-python",
   "name": "python",
   "nbconvert_exporter": "python",
   "pygments_lexer": "ipython3",
   "version": "3.11.5"
  }
 },
 "nbformat": 4,
 "nbformat_minor": 2
}
