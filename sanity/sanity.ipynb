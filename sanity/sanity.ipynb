{
 "cells": [
  {
   "cell_type": "code",
   "execution_count": 20,
   "metadata": {},
   "outputs": [],
   "source": [
    "from configparser import ConfigParser\n",
    "from copy import deepcopy\n",
    "import os\n",
    "from pathlib import Path"
   ]
  },
  {
   "cell_type": "markdown",
   "metadata": {},
   "source": [
    "# Read CFG"
   ]
  },
  {
   "cell_type": "code",
   "execution_count": 21,
   "metadata": {},
   "outputs": [],
   "source": [
    "class WrongParameterError(Exception):\n",
    "    \"\"\"\n",
    "    Using Wrong Parameters\n",
    "    \"\"\"\n",
    "\n",
    "def get_sanity_cfg():\n",
    "    cfg = ConfigParser()\n",
    "    _local_file = \"./sanity_cfg.ini\"\n",
    "    if Path(_local_file).is_file():    \n",
    "        print(\"Use Sanity Config from Local\")\n",
    "        cfg.read(_local_file)\n",
    "    else:\n",
    "        print(\"Use Sanity Config from MinIO\")\n",
    "    return cfg\n",
    "\n",
    "def valid_sanity_cfg(cfg: ConfigParser, keys: set) -> bool:\n",
    "    return all([set(cfg[_section].keys()).issubset(keys) for _section in cfg.sections()])\n",
    "\n",
    "def update_sanity_json(sanity_json: dict, cfg_items: list[tuple[str, str]]) -> None:\n",
    "    for key, value in cfg_items:\n",
    "        sanity_json[key] = value"
   ]
  },
  {
   "cell_type": "code",
   "execution_count": 22,
   "metadata": {},
   "outputs": [],
   "source": [
    "KEYS = {\"kernel_mode\", \"st\", \"et\", \"stage\", \"data_threshold\", \"feat1\", \"feat2\", \"feat3\"}\n",
    "json_data = {\n",
    "    \"kernel_mode\": \"soc\",\n",
    "    \"st\": None,\n",
    "    \"et\": None,\n",
    "    \"data_threshold\": 100,\n",
    "    \"feat1\": \"N\",\n",
    "    \"feat2\": \"Y\",\n",
    "    \"feat3\": \"Y\",\n",
    "}"
   ]
  },
  {
   "cell_type": "code",
   "execution_count": 23,
   "metadata": {},
   "outputs": [
    {
     "name": "stdout",
     "output_type": "stream",
     "text": [
      "Use Sanity Config from Local\n",
      "Sanity: M1_soc\n",
      "{'kernel_mode': 'soc', 'st': '2024/05/01', 'et': '2024/05/10', 'data_threshold': 100, 'feat1': 'Y', 'feat2': 'Y', 'feat3': 'Y', 'stage': 'M1'}\n",
      "Sanity: M1_l2l\n",
      "{'kernel_mode': 'l2l', 'st': '2024/05/01', 'et': '2024/05/10', 'data_threshold': 100, 'feat1': 'N', 'feat2': 'Y', 'feat3': 'Y', 'stage': 'M1'}\n",
      "Sanity: M2_soc\n",
      "{'kernel_mode': 'soc', 'st': '2024/05/01', 'et': '2024/05/10', 'data_threshold': '500', 'feat1': 'N', 'feat2': 'Y', 'feat3': 'Y', 'stage': 'M1'}\n"
     ]
    }
   ],
   "source": [
    "sanity_cfg = get_sanity_cfg()\n",
    "if not valid_sanity_cfg(sanity_cfg, KEYS): raise WrongParameterError\n",
    "for sanity_section in sanity_cfg.sections():\n",
    "    sanity_json = deepcopy(json_data)\n",
    "    update_sanity_json(sanity_json, sanity_cfg.items(sanity_section))\n",
    "    \n",
    "    print(f'Sanity: {sanity_section}')\n",
    "    print(sanity_json)"
   ]
  },
  {
   "cell_type": "markdown",
   "metadata": {},
   "source": [
    "# Move Directory"
   ]
  },
  {
   "cell_type": "code",
   "execution_count": 24,
   "metadata": {},
   "outputs": [],
   "source": [
    "def move_folder(src: Path, des: Path, targetDir: list[str], sanity_section: str):\n",
    "    os.makedirs(des/sanity_section)\n",
    "    for _dir in targetDir:\n",
    "        oldDir = src/_dir\n",
    "        newDir = des/sanity_section/_dir\n",
    "        oldDir.rename(newDir)\n",
    "        os.makedirs(oldDir)\n",
    "        print(f'Move \"{oldDir}\" to \"{newDir}\"')"
   ]
  },
  {
   "cell_type": "code",
   "execution_count": 25,
   "metadata": {},
   "outputs": [
    {
     "name": "stdout",
     "output_type": "stream",
     "text": [
      "Move \"d:\\CODE\\Practice\\Project\\sanity\\res\\result\" to \"d:\\CODE\\Practice\\Project\\sanity\\res\\_sanity_result\\stage1\\result\"\n",
      "Move \"d:\\CODE\\Practice\\Project\\sanity\\res\\model\" to \"d:\\CODE\\Practice\\Project\\sanity\\res\\_sanity_result\\stage1\\model\"\n"
     ]
    }
   ],
   "source": [
    "cwd = Path.cwd()\n",
    "src = cwd/\"res\"\n",
    "des = cwd/\"res\"/\"_sanity_result\"\n",
    "targetDir = [\"result\", \"model\"]\n",
    "sanity_section = \"stage1\"\n",
    "\n",
    "move_folder(src, des, targetDir, sanity_section)"
   ]
  },
  {
   "cell_type": "code",
   "execution_count": null,
   "metadata": {},
   "outputs": [],
   "source": []
  },
  {
   "cell_type": "code",
   "execution_count": 26,
   "metadata": {},
   "outputs": [
    {
     "name": "stdout",
     "output_type": "stream",
     "text": [
      "Sanity: M1_soc\n",
      "Move \"d:\\CODE\\Practice\\Project\\sanity\\res\\result\" to \"d:\\CODE\\Practice\\Project\\sanity\\res\\_sanity_result\\M1_soc\\result\"\n",
      "Move \"d:\\CODE\\Practice\\Project\\sanity\\res\\model\" to \"d:\\CODE\\Practice\\Project\\sanity\\res\\_sanity_result\\M1_soc\\model\"\n",
      "Sanity: M1_l2l\n",
      "Move \"d:\\CODE\\Practice\\Project\\sanity\\res\\result\" to \"d:\\CODE\\Practice\\Project\\sanity\\res\\_sanity_result\\M1_l2l\\result\"\n",
      "Move \"d:\\CODE\\Practice\\Project\\sanity\\res\\model\" to \"d:\\CODE\\Practice\\Project\\sanity\\res\\_sanity_result\\M1_l2l\\model\"\n",
      "Sanity: M2_soc\n",
      "Move \"d:\\CODE\\Practice\\Project\\sanity\\res\\result\" to \"d:\\CODE\\Practice\\Project\\sanity\\res\\_sanity_result\\M2_soc\\result\"\n",
      "Move \"d:\\CODE\\Practice\\Project\\sanity\\res\\model\" to \"d:\\CODE\\Practice\\Project\\sanity\\res\\_sanity_result\\M2_soc\\model\"\n"
     ]
    }
   ],
   "source": [
    "for sanity_section in sanity_cfg.sections():\n",
    "    sanity_json = deepcopy(json_data)\n",
    "    update_sanity_json(sanity_json, sanity_cfg.items(sanity_section))\n",
    "    \n",
    "    print(f'Sanity: {sanity_section}')\n",
    "    # Do Main\n",
    "    \n",
    "    move_folder(src, des, targetDir, sanity_section)"
   ]
  }
 ],
 "metadata": {
  "kernelspec": {
   "display_name": "tf208cpu",
   "language": "python",
   "name": "python3"
  },
  "language_info": {
   "codemirror_mode": {
    "name": "ipython",
    "version": 3
   },
   "file_extension": ".py",
   "mimetype": "text/x-python",
   "name": "python",
   "nbconvert_exporter": "python",
   "pygments_lexer": "ipython3",
   "version": "3.9.19"
  }
 },
 "nbformat": 4,
 "nbformat_minor": 2
}
