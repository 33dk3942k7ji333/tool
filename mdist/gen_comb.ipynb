{
 "cells": [
  {
   "cell_type": "code",
   "execution_count": 17,
   "metadata": {},
   "outputs": [],
   "source": [
    "import itertools\n",
    "import pandas as pd"
   ]
  },
  {
   "cell_type": "code",
   "execution_count": 18,
   "metadata": {},
   "outputs": [],
   "source": [
    "part_num = 20\n",
    "ret_num = 20\n",
    "prer_num = 20\n",
    "tool_num = 10\n",
    "pre1_num = 10\n",
    "pre2_num = 10\n",
    "chuck_num = 3"
   ]
  },
  {
   "cell_type": "code",
   "execution_count": 19,
   "metadata": {},
   "outputs": [],
   "source": [
    "part_lst = [f'P{i}' for i in range(1, part_num)]\n",
    "ret_lst = [f'R{i}' for i in range(1, ret_num)]\n",
    "prer_lst = [f'PR{i}' for i in range(1, prer_num)]\n",
    "tool_lst = [f'T{i}' for i in range(1, tool_num)]\n",
    "pre1_lst = [f'Pre1{i}' for i in range(1, pre1_num)]\n",
    "pre2_lst = [f'Pre2{i}' for i in range(1, pre2_num)]\n",
    "chuck_lst = [f'P{i}' for i in range(1, chuck_num)]\n",
    "comb_lst = [part_lst, ret_lst, prer_lst, tool_lst, pre1_lst, pre2_lst, chuck_lst]\n",
    "\n",
    "feat_lst = [\"Part\", \"Reticle\", \"Prev1Reticle\", \"Tool\", \"Prev1Tool\", \"Prev2Tool\", \"ChuckID\"]\n",
    "df_raw = pd.DataFrame([i for i in itertools.product(*comb_lst)], columns=feat_lst)\n",
    "\n",
    "df_raw.to_csv(\"./df_data.csv\", index=False)"
   ]
  },
  {
   "cell_type": "code",
   "execution_count": 20,
   "metadata": {},
   "outputs": [
    {
     "data": {
      "text/plain": [
       "(27702, 7)"
      ]
     },
     "execution_count": 20,
     "metadata": {},
     "output_type": "execute_result"
    }
   ],
   "source": [
    "df_raw.shape"
   ]
  },
  {
   "cell_type": "code",
   "execution_count": null,
   "metadata": {},
   "outputs": [],
   "source": []
  }
 ],
 "metadata": {
  "kernelspec": {
   "display_name": "base",
   "language": "python",
   "name": "python3"
  },
  "language_info": {
   "codemirror_mode": {
    "name": "ipython",
    "version": 3
   },
   "file_extension": ".py",
   "mimetype": "text/x-python",
   "name": "python",
   "nbconvert_exporter": "python",
   "pygments_lexer": "ipython3",
   "version": "3.9.19"
  }
 },
 "nbformat": 4,
 "nbformat_minor": 2
}
