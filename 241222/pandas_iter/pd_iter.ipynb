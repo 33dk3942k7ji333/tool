{
 "cells": [
  {
   "cell_type": "code",
   "execution_count": 3,
   "metadata": {},
   "outputs": [],
   "source": [
    "import pandas as pd\n",
    "from itertools import product"
   ]
  },
  {
   "cell_type": "code",
   "execution_count": 4,
   "metadata": {},
   "outputs": [],
   "source": [
    "num_f1 = 20\n",
    "num_f2 = 20\n",
    "num_f3 = 20\n",
    "num_f4 = 20\n",
    "num_f5 = 20\n",
    "\n",
    "\n",
    "lst_f1 = list(range(0, num_f1))\n",
    "lst_f2 = list(range(0, num_f2))\n",
    "lst_f3 = list(range(0, num_f3))\n",
    "lst_f4 = list(range(0, num_f4))\n",
    "lst_f5 = list(range(0, num_f5))"
   ]
  },
  {
   "cell_type": "code",
   "execution_count": 9,
   "metadata": {},
   "outputs": [],
   "source": [
    "def method1_all():\n",
    "    lst_comb = list()\n",
    "    for _f1 in lst_f1:\n",
    "        lst_feat = [[_f1], lst_f2, lst_f3, lst_f4, lst_f5]\n",
    "        lst_comb.extend(list(product(*lst_feat)))\n",
    "    df_data = pd.DataFrame(lst_comb)\n",
    "    print(df_data.shape)\n",
    "\n",
    "def method2_split():\n",
    "    lst_df = list()\n",
    "    for _f1 in lst_f1:\n",
    "        lst_feat = [[_f1], lst_f2, lst_f3, lst_f4, lst_f5]\n",
    "        lst_df.append(pd.DataFrame(list(product(*lst_feat))))\n",
    "    df_data = pd.concat(lst_df)\n",
    "    print(df_data.shape)"
   ]
  },
  {
   "cell_type": "code",
   "execution_count": 10,
   "metadata": {},
   "outputs": [
    {
     "name": "stdout",
     "output_type": "stream",
     "text": [
      "(3200000, 5)\n"
     ]
    }
   ],
   "source": [
    "method1_all()"
   ]
  },
  {
   "cell_type": "code",
   "execution_count": 11,
   "metadata": {},
   "outputs": [
    {
     "name": "stdout",
     "output_type": "stream",
     "text": [
      "(3200000, 5)\n"
     ]
    }
   ],
   "source": [
    "method2_split()"
   ]
  }
 ],
 "metadata": {
  "kernelspec": {
   "display_name": "base",
   "language": "python",
   "name": "python3"
  },
  "language_info": {
   "codemirror_mode": {
    "name": "ipython",
    "version": 3
   },
   "file_extension": ".py",
   "mimetype": "text/x-python",
   "name": "python",
   "nbconvert_exporter": "python",
   "pygments_lexer": "ipython3",
   "version": "3.11.5"
  }
 },
 "nbformat": 4,
 "nbformat_minor": 2
}
