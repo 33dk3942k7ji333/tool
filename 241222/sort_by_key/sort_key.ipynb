{
 "cells": [
  {
   "cell_type": "code",
   "execution_count": 70,
   "metadata": {},
   "outputs": [],
   "source": [
    "from collections import defaultdict\n",
    "\n",
    "def _order(x: str):\n",
    "    if \"Part\" == x:\n",
    "        return 1<<0\n",
    "    if \"Reticle\" == x:\n",
    "        return 1<<1\n",
    "    if \"Prev1Reticle\" == x:\n",
    "        return 1<<2\n",
    "    if \"Tool\" == x:\n",
    "        return 1<<3\n",
    "    if \"Prev1Tool\" == x:\n",
    "        return 1<<4\n",
    "    if \"Prev2Tool\" == x:\n",
    "        return 1<<5\n",
    "    if \"ChuckID\" == x:\n",
    "        return 1<<6\n",
    "\n",
    "def _apc_order(x: str):\n",
    "    idx_value: int= 0\n",
    "    res = list()\n",
    "    for _x in x.split(\"|\"):\n",
    "       idx_value += _order(_x)\n",
    "       res.append(_order(_x))\n",
    "    print(f\"{idx_value:6d} | {res} | {x}\")\n",
    "    return idx_value\n",
    "\n",
    "def apc_order(lst_feat: list):\n",
    "    len_group = defaultdict(list)\n",
    "    res = list()\n",
    "    for feat in lst_feat:\n",
    "        if \"Part\" in feat:\n",
    "            len_group[0].append(feat)\n",
    "        else:\n",
    "            len_group[len(feat.split(\"|\"))].append(feat)\n",
    "    for _len in sorted(len_group.keys()):\n",
    "        res.extend(sorted(len_group[_len], key=_apc_order))\n",
    "    return res\n",
    "    "
   ]
  },
  {
   "cell_type": "code",
   "execution_count": 71,
   "metadata": {},
   "outputs": [],
   "source": [
    "t1 = \"Part\"\n",
    "t2 = \"Reticle\"\n",
    "t3 = \"Prev1Reticle\"\n",
    "t4 = \"Tool\"\n",
    "t5 = \"Prev1Tool\"\n",
    "t6 = \"Prev2Tool\"\n",
    "t7 = \"ChuckID\""
   ]
  },
  {
   "cell_type": "code",
   "execution_count": 72,
   "metadata": {},
   "outputs": [
    {
     "data": {
      "text/plain": [
       "['Tool|Part',\n",
       " 'ChuckID|Prev2Tool',\n",
       " 'ChuckID|Prev2Tool|Part',\n",
       " 'Part',\n",
       " 'Prev1Reticle|Reticle',\n",
       " 'Reticle|Prev1Reticle',\n",
       " 'Tool|Prev1Tool|Prev2Tool|ChuckID']"
      ]
     },
     "execution_count": 72,
     "metadata": {},
     "output_type": "execute_result"
    }
   ],
   "source": [
    "l_t1 = [f\"{t4}|{t1}\", f\"{t7}|{t6}\", f\"{t7}|{t6}|{t1}\", t1, f\"{t3}|{t2}\", f\"{t2}|{t3}\", f\"{t4}|{t5}|{t6}|{t7}\"]\n",
    "# l_t1 = [f\"{t4}|{t7}\", f\"{t5}|{t7}\", f\"{t6}|{t7}\", f\"{t4}|{t5}\", f\"{t4}|{t5}|{t7}\", f\"{t6}|{t5}|{t7}\", f\"{t6}|{t5}\"]\n",
    "l_t1"
   ]
  },
  {
   "cell_type": "code",
   "execution_count": 73,
   "metadata": {},
   "outputs": [
    {
     "name": "stdout",
     "output_type": "stream",
     "text": [
      "     9 | [8, 1] | Tool|Part\n",
      "    97 | [64, 32, 1] | ChuckID|Prev2Tool|Part\n",
      "     1 | [1] | Part\n",
      "    96 | [64, 32] | ChuckID|Prev2Tool\n",
      "     6 | [4, 2] | Prev1Reticle|Reticle\n",
      "     6 | [2, 4] | Reticle|Prev1Reticle\n",
      "   120 | [8, 16, 32, 64] | Tool|Prev1Tool|Prev2Tool|ChuckID\n"
     ]
    },
    {
     "data": {
      "text/plain": [
       "['Part',\n",
       " 'Tool|Part',\n",
       " 'ChuckID|Prev2Tool|Part',\n",
       " 'Prev1Reticle|Reticle',\n",
       " 'Reticle|Prev1Reticle',\n",
       " 'ChuckID|Prev2Tool',\n",
       " 'Tool|Prev1Tool|Prev2Tool|ChuckID']"
      ]
     },
     "execution_count": 73,
     "metadata": {},
     "output_type": "execute_result"
    }
   ],
   "source": [
    "apc_order(l_t1)"
   ]
  },
  {
   "cell_type": "code",
   "execution_count": null,
   "metadata": {},
   "outputs": [],
   "source": []
  },
  {
   "cell_type": "code",
   "execution_count": null,
   "metadata": {},
   "outputs": [],
   "source": []
  }
 ],
 "metadata": {
  "kernelspec": {
   "display_name": "base",
   "language": "python",
   "name": "python3"
  },
  "language_info": {
   "codemirror_mode": {
    "name": "ipython",
    "version": 3
   },
   "file_extension": ".py",
   "mimetype": "text/x-python",
   "name": "python",
   "nbconvert_exporter": "python",
   "pygments_lexer": "ipython3",
   "version": "3.11.5"
  }
 },
 "nbformat": 4,
 "nbformat_minor": 2
}
