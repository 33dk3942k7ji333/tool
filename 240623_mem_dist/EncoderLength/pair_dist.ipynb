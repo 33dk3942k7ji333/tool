{
 "cells": [
  {
   "cell_type": "code",
   "execution_count": 5,
   "metadata": {},
   "outputs": [
    {
     "name": "stdout",
     "output_type": "stream",
     "text": [
      "Old Max: 17541, New Max: 9263, Mid Value: 6371\n"
     ]
    }
   ],
   "source": [
    "data = []\n",
    "with open(\"mprofile_20240623234043.dat\", \"r\") as f:\n",
    "    lines = f.readlines()\n",
    "for line in lines[1:]:\n",
    "    data.extend(line.split(\" \")[1:2])\n",
    "\n",
    "pre = 0\n",
    "old_max = 0\n",
    "new_max = 0\n",
    "mid_value = 0\n",
    "same_time = 0\n",
    "is_new = False\n",
    "for i in data:\n",
    "    i = float(i)\n",
    "    if pre != 0:\n",
    "        if i == pre:\n",
    "            same_time += 1\n",
    "        else:\n",
    "            same_time = 0\n",
    "        \n",
    "        if same_time > 40:\n",
    "            mid_value = i\n",
    "            is_new = True\n",
    "    \n",
    "    if is_new:\n",
    "        new_max = i if i > new_max else new_max\n",
    "    else:\n",
    "        old_max = i if i > old_max else old_max\n",
    "    pre = i\n",
    "print(f'Old Max: {old_max:.0f}, New Max: {new_max:.0f}, Mid Value: {mid_value:.0f}')"
   ]
  },
  {
   "cell_type": "code",
   "execution_count": 6,
   "metadata": {},
   "outputs": [
    {
     "name": "stdout",
     "output_type": "stream",
     "text": [
      "Old Max: 18548, New Max: 10098, Mid Value: 7287\n"
     ]
    }
   ],
   "source": [
    "data = []\n",
    "with open(\"mprofile_20240623234423.dat\", \"r\") as f:\n",
    "    lines = f.readlines()\n",
    "for line in lines[1:]:\n",
    "    data.extend(line.split(\" \")[1:2])\n",
    "\n",
    "pre = 0\n",
    "old_max = 0\n",
    "new_max = 0\n",
    "mid_value = 0\n",
    "same_time = 0\n",
    "is_new = False\n",
    "for i in data:\n",
    "    i = float(i)\n",
    "    if pre != 0:\n",
    "        if i == pre:\n",
    "            same_time += 1\n",
    "        else:\n",
    "            same_time = 0\n",
    "        \n",
    "        if same_time > 40:\n",
    "            mid_value = i\n",
    "            is_new = True\n",
    "    \n",
    "    if is_new:\n",
    "        new_max = i if i > new_max else new_max\n",
    "    else:\n",
    "        old_max = i if i > old_max else old_max\n",
    "    pre = i\n",
    "print(f'Old Max: {old_max:.0f}, New Max: {new_max:.0f}, Mid Value: {mid_value:.0f}')"
   ]
  },
  {
   "cell_type": "code",
   "execution_count": 7,
   "metadata": {},
   "outputs": [
    {
     "name": "stdout",
     "output_type": "stream",
     "text": [
      "Old Max: 19578, New Max: 11047, Mid Value: 8204\n"
     ]
    }
   ],
   "source": [
    "data = []\n",
    "with open(\"mprofile_20240623234715.dat\", \"r\") as f:\n",
    "    lines = f.readlines()\n",
    "for line in lines[1:]:\n",
    "    data.extend(line.split(\" \")[1:2])\n",
    "\n",
    "pre = 0\n",
    "old_max = 0\n",
    "new_max = 0\n",
    "mid_value = 0\n",
    "same_time = 0\n",
    "is_new = False\n",
    "for i in data:\n",
    "    i = float(i)\n",
    "    if pre != 0:\n",
    "        if i == pre:\n",
    "            same_time += 1\n",
    "        else:\n",
    "            same_time = 0\n",
    "        \n",
    "        if same_time > 40:\n",
    "            mid_value = i\n",
    "            is_new = True\n",
    "    \n",
    "    if is_new:\n",
    "        new_max = i if i > new_max else new_max\n",
    "    else:\n",
    "        old_max = i if i > old_max else old_max\n",
    "    pre = i\n",
    "print(f'Old Max: {old_max:.0f}, New Max: {new_max:.0f}, Mid Value: {mid_value:.0f}')"
   ]
  },
  {
   "cell_type": "code",
   "execution_count": 8,
   "metadata": {},
   "outputs": [
    {
     "name": "stdout",
     "output_type": "stream",
     "text": [
      "Old Max: 20520, New Max: 12011, Mid Value: 9120\n"
     ]
    }
   ],
   "source": [
    "data = []\n",
    "with open(\"mprofile_20240623235025.dat\", \"r\") as f:\n",
    "    lines = f.readlines()\n",
    "for line in lines[1:]:\n",
    "    data.extend(line.split(\" \")[1:2])\n",
    "\n",
    "pre = 0\n",
    "old_max = 0\n",
    "new_max = 0\n",
    "mid_value = 0\n",
    "same_time = 0\n",
    "is_new = False\n",
    "for i in data:\n",
    "    i = float(i)\n",
    "    if pre != 0:\n",
    "        if i == pre:\n",
    "            same_time += 1\n",
    "        else:\n",
    "            same_time = 0\n",
    "        \n",
    "        if same_time > 40:\n",
    "            mid_value = i\n",
    "            is_new = True\n",
    "    \n",
    "    if is_new:\n",
    "        new_max = i if i > new_max else new_max\n",
    "    else:\n",
    "        old_max = i if i > old_max else old_max\n",
    "    pre = i\n",
    "print(f'Old Max: {old_max:.0f}, New Max: {new_max:.0f}, Mid Value: {mid_value:.0f}')"
   ]
  },
  {
   "cell_type": "code",
   "execution_count": 9,
   "metadata": {},
   "outputs": [
    {
     "name": "stdout",
     "output_type": "stream",
     "text": [
      "Old Max: 21328, New Max: 12798, Mid Value: 9898\n"
     ]
    }
   ],
   "source": [
    "data = []\n",
    "with open(\"mprofile_20240623235343.dat\", \"r\") as f:\n",
    "    lines = f.readlines()\n",
    "for line in lines[1:]:\n",
    "    data.extend(line.split(\" \")[1:2])\n",
    "\n",
    "pre = 0\n",
    "old_max = 0\n",
    "new_max = 0\n",
    "mid_value = 0\n",
    "same_time = 0\n",
    "is_new = False\n",
    "for i in data:\n",
    "    i = float(i)\n",
    "    if pre != 0:\n",
    "        if i == pre:\n",
    "            same_time += 1\n",
    "        else:\n",
    "            same_time = 0\n",
    "        \n",
    "        if same_time > 40:\n",
    "            mid_value = i\n",
    "            is_new = True\n",
    "    \n",
    "    if is_new:\n",
    "        new_max = i if i > new_max else new_max\n",
    "    else:\n",
    "        old_max = i if i > old_max else old_max\n",
    "    pre = i\n",
    "print(f'Old Max: {old_max:.0f}, New Max: {new_max:.0f}, Mid Value: {mid_value:.0f}')"
   ]
  },
  {
   "cell_type": "code",
   "execution_count": 10,
   "metadata": {},
   "outputs": [
    {
     "name": "stdout",
     "output_type": "stream",
     "text": [
      "Old Max: 25823, New Max: 17515, Mid Value: 14614\n"
     ]
    }
   ],
   "source": [
    "data = []\n",
    "with open(\"mprofile_20240623235829.dat\", \"r\") as f:\n",
    "    lines = f.readlines()\n",
    "for line in lines[1:]:\n",
    "    data.extend(line.split(\" \")[1:2])\n",
    "\n",
    "pre = 0\n",
    "old_max = 0\n",
    "new_max = 0\n",
    "mid_value = 0\n",
    "same_time = 0\n",
    "is_new = False\n",
    "for i in data:\n",
    "    i = float(i)\n",
    "    if pre != 0:\n",
    "        if i == pre:\n",
    "            same_time += 1\n",
    "        else:\n",
    "            same_time = 0\n",
    "        \n",
    "        if same_time > 40:\n",
    "            mid_value = i\n",
    "            is_new = True\n",
    "    \n",
    "    if is_new:\n",
    "        new_max = i if i > new_max else new_max\n",
    "    else:\n",
    "        old_max = i if i > old_max else old_max\n",
    "    pre = i\n",
    "print(f'Old Max: {old_max:.0f}, New Max: {new_max:.0f}, Mid Value: {mid_value:.0f}')"
   ]
  },
  {
   "cell_type": "code",
   "execution_count": 12,
   "metadata": {},
   "outputs": [
    {
     "name": "stdout",
     "output_type": "stream",
     "text": [
      "Old Max: 30446, New Max: 21920, Mid Value: 19029\n"
     ]
    }
   ],
   "source": [
    "data = []\n",
    "with open(\"mprofile_20240624000936.dat\", \"r\") as f:\n",
    "    lines = f.readlines()\n",
    "for line in lines[1:]:\n",
    "    data.extend(line.split(\" \")[1:2])\n",
    "\n",
    "pre = 0\n",
    "old_max = 0\n",
    "new_max = 0\n",
    "mid_value = 0\n",
    "same_time = 0\n",
    "is_new = False\n",
    "for i in data:\n",
    "    i = float(i)\n",
    "    if pre != 0:\n",
    "        if i == pre:\n",
    "            same_time += 1\n",
    "        else:\n",
    "            same_time = 0\n",
    "        \n",
    "        if same_time > 40:\n",
    "            mid_value = i\n",
    "            is_new = True\n",
    "    \n",
    "    if is_new:\n",
    "        new_max = i if i > new_max else new_max\n",
    "    else:\n",
    "        old_max = i if i > old_max else old_max\n",
    "    pre = i\n",
    "print(f'Old Max: {old_max:.0f}, New Max: {new_max:.0f}, Mid Value: {mid_value:.0f}')"
   ]
  },
  {
   "cell_type": "code",
   "execution_count": 13,
   "metadata": {},
   "outputs": [
    {
     "name": "stdout",
     "output_type": "stream",
     "text": [
      "Old Max: 35096, New Max: 26632, Mid Value: 23732\n"
     ]
    }
   ],
   "source": [
    "data = []\n",
    "with open(\"mprofile_20240624001740.dat\", \"r\") as f:\n",
    "    lines = f.readlines()\n",
    "for line in lines[1:]:\n",
    "    data.extend(line.split(\" \")[1:2])\n",
    "\n",
    "pre = 0\n",
    "old_max = 0\n",
    "new_max = 0\n",
    "mid_value = 0\n",
    "same_time = 0\n",
    "is_new = False\n",
    "for i in data:\n",
    "    i = float(i)\n",
    "    if pre != 0:\n",
    "        if i == pre:\n",
    "            same_time += 1\n",
    "        else:\n",
    "            same_time = 0\n",
    "        \n",
    "        if same_time > 40:\n",
    "            mid_value = i\n",
    "            is_new = True\n",
    "    \n",
    "    if is_new:\n",
    "        new_max = i if i > new_max else new_max\n",
    "    else:\n",
    "        old_max = i if i > old_max else old_max\n",
    "    pre = i\n",
    "print(f'Old Max: {old_max:.0f}, New Max: {new_max:.0f}, Mid Value: {mid_value:.0f}')"
   ]
  },
  {
   "cell_type": "code",
   "execution_count": 1,
   "metadata": {},
   "outputs": [
    {
     "name": "stdout",
     "output_type": "stream",
     "text": [
      "Old Max: 16502, New Max: 8205, Mid Value: 5318\n"
     ]
    }
   ],
   "source": [
    "data = []\n",
    "with open(\"mprofile_20240624003210.dat\", \"r\") as f:\n",
    "    lines = f.readlines()\n",
    "for line in lines[1:]:\n",
    "    data.extend(line.split(\" \")[1:2])\n",
    "\n",
    "pre = 0\n",
    "old_max = 0\n",
    "new_max = 0\n",
    "mid_value = 0\n",
    "same_time = 0\n",
    "is_new = False\n",
    "for i in data:\n",
    "    i = float(i)\n",
    "    if pre != 0:\n",
    "        if i == pre:\n",
    "            same_time += 1\n",
    "        else:\n",
    "            same_time = 0\n",
    "        \n",
    "        if same_time > 40:\n",
    "            mid_value = i\n",
    "            is_new = True\n",
    "    \n",
    "    if is_new:\n",
    "        new_max = i if i > new_max else new_max\n",
    "    else:\n",
    "        old_max = i if i > old_max else old_max\n",
    "    pre = i\n",
    "print(f'Old Max: {old_max:.0f}, New Max: {new_max:.0f}, Mid Value: {mid_value:.0f}')"
   ]
  }
 ],
 "metadata": {
  "kernelspec": {
   "display_name": "base",
   "language": "python",
   "name": "python3"
  },
  "language_info": {
   "codemirror_mode": {
    "name": "ipython",
    "version": 3
   },
   "file_extension": ".py",
   "mimetype": "text/x-python",
   "name": "python",
   "nbconvert_exporter": "python",
   "pygments_lexer": "ipython3",
   "version": "3.11.5"
  }
 },
 "nbformat": 4,
 "nbformat_minor": 2
}
