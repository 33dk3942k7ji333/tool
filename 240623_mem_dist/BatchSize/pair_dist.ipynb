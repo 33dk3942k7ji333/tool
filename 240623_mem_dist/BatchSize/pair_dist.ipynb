{
 "cells": [
  {
   "cell_type": "code",
   "execution_count": 20,
   "metadata": {},
   "outputs": [
    {
     "name": "stdout",
     "output_type": "stream",
     "text": [
      "Old Max: 58335, New Max: 7963, Mid Value: 1143\n"
     ]
    }
   ],
   "source": [
    "data = []\n",
    "with open(\"mprofile_20240623222810.dat\", \"r\") as f:\n",
    "    lines = f.readlines()\n",
    "for line in lines[1:]:\n",
    "    data.extend(line.split(\" \")[1:2])\n",
    "\n",
    "pre = 0\n",
    "old_max = 0\n",
    "new_max = 0\n",
    "mid_value = 0\n",
    "same_time = 0\n",
    "is_new = False\n",
    "for i in data:\n",
    "    i = float(i)\n",
    "    if pre != 0:\n",
    "        if i == pre:\n",
    "            same_time += 1\n",
    "        else:\n",
    "            same_time = 0\n",
    "        \n",
    "        if same_time > 40:\n",
    "            mid_value = i\n",
    "            is_new = True\n",
    "    \n",
    "    if is_new:\n",
    "        new_max = i if i > new_max else new_max\n",
    "    else:\n",
    "        old_max = i if i > old_max else old_max\n",
    "    pre = i\n",
    "print(f'Old Max: {old_max:.0f}, New Max: {new_max:.0f}, Mid Value: {mid_value:.0f}')"
   ]
  },
  {
   "cell_type": "code",
   "execution_count": 21,
   "metadata": {},
   "outputs": [
    {
     "name": "stdout",
     "output_type": "stream",
     "text": [
      "Old Max: 54558, New Max: 11604, Mid Value: 5863\n"
     ]
    }
   ],
   "source": [
    "data = []\n",
    "with open(\"mprofile_20240623223608.dat\", \"r\") as f:\n",
    "    lines = f.readlines()\n",
    "for line in lines[1:]:\n",
    "    data.extend(line.split(\" \")[1:2])\n",
    "\n",
    "pre = 0\n",
    "old_max = 0\n",
    "new_max = 0\n",
    "mid_value = 0\n",
    "same_time = 0\n",
    "is_new = False\n",
    "for i in data:\n",
    "    i = float(i)\n",
    "    if pre != 0:\n",
    "        if i == pre:\n",
    "            same_time += 1\n",
    "        else:\n",
    "            same_time = 0\n",
    "        \n",
    "        if same_time > 40:\n",
    "            mid_value = i\n",
    "            is_new = True\n",
    "    \n",
    "    if is_new:\n",
    "        new_max = i if i > new_max else new_max\n",
    "    else:\n",
    "        old_max = i if i > old_max else old_max\n",
    "    pre = i\n",
    "print(f'Old Max: {old_max:.0f}, New Max: {new_max:.0f}, Mid Value: {mid_value:.0f}')"
   ]
  },
  {
   "cell_type": "code",
   "execution_count": 22,
   "metadata": {},
   "outputs": [
    {
     "name": "stdout",
     "output_type": "stream",
     "text": [
      "Old Max: 43088, New Max: 13620, Mid Value: 8819\n"
     ]
    }
   ],
   "source": [
    "data = []\n",
    "with open(\"mprofile_20240623225558.dat\", \"r\") as f:\n",
    "    lines = f.readlines()\n",
    "for line in lines[1:]:\n",
    "    data.extend(line.split(\" \")[1:2])\n",
    "\n",
    "pre = 0\n",
    "old_max = 0\n",
    "new_max = 0\n",
    "mid_value = 0\n",
    "same_time = 0\n",
    "is_new = False\n",
    "for i in data:\n",
    "    i = float(i)\n",
    "    if pre != 0:\n",
    "        if i == pre:\n",
    "            same_time += 1\n",
    "        else:\n",
    "            same_time = 0\n",
    "        \n",
    "        if same_time > 40:\n",
    "            mid_value = i\n",
    "            is_new = True\n",
    "    \n",
    "    if is_new:\n",
    "        new_max = i if i > new_max else new_max\n",
    "    else:\n",
    "        old_max = i if i > old_max else old_max\n",
    "    pre = i\n",
    "print(f'Old Max: {old_max:.0f}, New Max: {new_max:.0f}, Mid Value: {mid_value:.0f}')"
   ]
  },
  {
   "cell_type": "code",
   "execution_count": 23,
   "metadata": {},
   "outputs": [
    {
     "name": "stdout",
     "output_type": "stream",
     "text": [
      "Old Max: 31673, New Max: 12707, Mid Value: 8819\n"
     ]
    }
   ],
   "source": [
    "data = []\n",
    "with open(\"mprofile_20240623230438.dat\", \"r\") as f:\n",
    "    lines = f.readlines()\n",
    "for line in lines[1:]:\n",
    "    data.extend(line.split(\" \")[1:2])\n",
    "\n",
    "pre = 0\n",
    "old_max = 0\n",
    "new_max = 0\n",
    "mid_value = 0\n",
    "same_time = 0\n",
    "is_new = False\n",
    "for i in data:\n",
    "    i = float(i)\n",
    "    if pre != 0:\n",
    "        if i == pre:\n",
    "            same_time += 1\n",
    "        else:\n",
    "            same_time = 0\n",
    "        \n",
    "        if same_time > 40:\n",
    "            mid_value = i\n",
    "            is_new = True\n",
    "    \n",
    "    if is_new:\n",
    "        new_max = i if i > new_max else new_max\n",
    "    else:\n",
    "        old_max = i if i > old_max else old_max\n",
    "    pre = i\n",
    "print(f'Old Max: {old_max:.0f}, New Max: {new_max:.0f}, Mid Value: {mid_value:.0f}')"
   ]
  },
  {
   "cell_type": "code",
   "execution_count": 24,
   "metadata": {},
   "outputs": [
    {
     "name": "stdout",
     "output_type": "stream",
     "text": [
      "Old Max: 20203, New Max: 11627, Mid Value: 8819\n"
     ]
    }
   ],
   "source": [
    "data = []\n",
    "with open(\"mprofile_20240623231458.dat\", \"r\") as f:\n",
    "    lines = f.readlines()\n",
    "for line in lines[1:]:\n",
    "    data.extend(line.split(\" \")[1:2])\n",
    "\n",
    "pre = 0\n",
    "old_max = 0\n",
    "new_max = 0\n",
    "mid_value = 0\n",
    "same_time = 0\n",
    "is_new = False\n",
    "for i in data:\n",
    "    i = float(i)\n",
    "    if pre != 0:\n",
    "        if i == pre:\n",
    "            same_time += 1\n",
    "        else:\n",
    "            same_time = 0\n",
    "        \n",
    "        if same_time > 40:\n",
    "            mid_value = i\n",
    "            is_new = True\n",
    "    \n",
    "    if is_new:\n",
    "        new_max = i if i > new_max else new_max\n",
    "    else:\n",
    "        old_max = i if i > old_max else old_max\n",
    "    pre = i\n",
    "print(f'Old Max: {old_max:.0f}, New Max: {new_max:.0f}, Mid Value: {mid_value:.0f}')"
   ]
  }
 ],
 "metadata": {
  "kernelspec": {
   "display_name": "base",
   "language": "python",
   "name": "python3"
  },
  "language_info": {
   "codemirror_mode": {
    "name": "ipython",
    "version": 3
   },
   "file_extension": ".py",
   "mimetype": "text/x-python",
   "name": "python",
   "nbconvert_exporter": "python",
   "pygments_lexer": "ipython3",
   "version": "3.11.5"
  }
 },
 "nbformat": 4,
 "nbformat_minor": 2
}
